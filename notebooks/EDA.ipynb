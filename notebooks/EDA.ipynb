{
 "cells": [
  {
   "cell_type": "markdown",
   "metadata": {
    "toc": true
   },
   "source": [
    "<h1>Table of Contents<span class=\"tocSkip\"></span></h1>\n",
    "<div class=\"toc\"><ul class=\"toc-item\"><li><span><a href=\"#¿Qué-vende-un-coche?\" data-toc-modified-id=\"¿Qué-vende-un-coche?-1\"><span class=\"toc-item-num\">1&nbsp;&nbsp;</span>¿Qué vende un coche?</a></span><ul class=\"toc-item\"><li><span><a href=\"#Inicialización\" data-toc-modified-id=\"Inicialización-1.1\"><span class=\"toc-item-num\">1.1&nbsp;&nbsp;</span>Inicialización</a></span><ul class=\"toc-item\"><li><span><a href=\"#Cargar-datos\" data-toc-modified-id=\"Cargar-datos-1.1.1\"><span class=\"toc-item-num\">1.1.1&nbsp;&nbsp;</span>Cargar datos</a></span></li><li><span><a href=\"#Explorar-datos-iniciales\" data-toc-modified-id=\"Explorar-datos-iniciales-1.1.2\"><span class=\"toc-item-num\">1.1.2&nbsp;&nbsp;</span>Explorar datos iniciales</a></span></li><li><span><a href=\"#Conclusiones-y-siguientes-pasos\" data-toc-modified-id=\"Conclusiones-y-siguientes-pasos-1.1.3\"><span class=\"toc-item-num\">1.1.3&nbsp;&nbsp;</span>Conclusiones y siguientes pasos</a></span></li></ul></li><li><span><a href=\"#Tratar-los-valores-ausentes-(si-hay)\" data-toc-modified-id=\"Tratar-los-valores-ausentes-(si-hay)-1.2\"><span class=\"toc-item-num\">1.2&nbsp;&nbsp;</span>Tratar los valores ausentes (si hay)</a></span><ul class=\"toc-item\"><li><span><a href=\"#Reemplazo-de-ausentes-en-'is_4wd'\" data-toc-modified-id=\"Reemplazo-de-ausentes-en-'is_4wd'-1.2.1\"><span class=\"toc-item-num\">1.2.1&nbsp;&nbsp;</span>Reemplazo de ausentes en 'is_4wd'</a></span></li><li><span><a href=\"#Reemplazo-de-ausentes-en-'model_year'\" data-toc-modified-id=\"Reemplazo-de-ausentes-en-'model_year'-1.2.2\"><span class=\"toc-item-num\">1.2.2&nbsp;&nbsp;</span>Reemplazo de ausentes en 'model_year'</a></span></li><li><span><a href=\"#Reemplazar-datos-ausentes-de-cylinders\" data-toc-modified-id=\"Reemplazar-datos-ausentes-de-cylinders-1.2.3\"><span class=\"toc-item-num\">1.2.3&nbsp;&nbsp;</span>Reemplazar datos ausentes de cylinders</a></span></li><li><span><a href=\"#Reemplazar-datos-ausentes-en-odometer\" data-toc-modified-id=\"Reemplazar-datos-ausentes-en-odometer-1.2.4\"><span class=\"toc-item-num\">1.2.4&nbsp;&nbsp;</span>Reemplazar datos ausentes en odometer</a></span></li><li><span><a href=\"#Reemplazar-datos-ausentes-en-paint-color\" data-toc-modified-id=\"Reemplazar-datos-ausentes-en-paint-color-1.2.5\"><span class=\"toc-item-num\">1.2.5&nbsp;&nbsp;</span>Reemplazar datos ausentes en paint color</a></span></li></ul></li><li><span><a href=\"#Corregir-los-tipos-de-datos\" data-toc-modified-id=\"Corregir-los-tipos-de-datos-1.3\"><span class=\"toc-item-num\">1.3&nbsp;&nbsp;</span>Corregir los tipos de datos</a></span></li><li><span><a href=\"#Enriquecer-datos\" data-toc-modified-id=\"Enriquecer-datos-1.4\"><span class=\"toc-item-num\">1.4&nbsp;&nbsp;</span>Enriquecer datos</a></span></li><li><span><a href=\"#Comprobar-datos-limpios\" data-toc-modified-id=\"Comprobar-datos-limpios-1.5\"><span class=\"toc-item-num\">1.5&nbsp;&nbsp;</span>Comprobar datos limpios</a></span></li><li><span><a href=\"#Estudiar-parámetros-principales\" data-toc-modified-id=\"Estudiar-parámetros-principales-1.6\"><span class=\"toc-item-num\">1.6&nbsp;&nbsp;</span>Estudiar parámetros principales</a></span></li><li><span><a href=\"#Estudiar-y-tratar-valores-atípicos\" data-toc-modified-id=\"Estudiar-y-tratar-valores-atípicos-1.7\"><span class=\"toc-item-num\">1.7&nbsp;&nbsp;</span>Estudiar y tratar valores atípicos</a></span></li><li><span><a href=\"#Estudiar-parámetros-principales-sin-valores-atípicos\" data-toc-modified-id=\"Estudiar-parámetros-principales-sin-valores-atípicos-1.8\"><span class=\"toc-item-num\">1.8&nbsp;&nbsp;</span>Estudiar parámetros principales sin valores atípicos</a></span></li><li><span><a href=\"#Periodo-de-colocación-de-los-anuncios\" data-toc-modified-id=\"Periodo-de-colocación-de-los-anuncios-1.9\"><span class=\"toc-item-num\">1.9&nbsp;&nbsp;</span>Periodo de colocación de los anuncios</a></span></li><li><span><a href=\"#Precio-promedio-por-cada-tipo-de-vehículo\" data-toc-modified-id=\"Precio-promedio-por-cada-tipo-de-vehículo-1.10\"><span class=\"toc-item-num\">1.10&nbsp;&nbsp;</span>Precio promedio por cada tipo de vehículo</a></span></li><li><span><a href=\"#Factores-de-precio\" data-toc-modified-id=\"Factores-de-precio-1.11\"><span class=\"toc-item-num\">1.11&nbsp;&nbsp;</span>Factores de precio</a></span></li><li><span><a href=\"#Conclusión-general\" data-toc-modified-id=\"Conclusión-general-1.12\"><span class=\"toc-item-num\">1.12&nbsp;&nbsp;</span>Conclusión general</a></span></li></ul></li></ul></div>"
   ]
  },
  {
   "cell_type": "markdown",
   "metadata": {},
   "source": [
    "# ¿Qué vende un coche?\n",
    "\n",
    "Eres un analista en Crankshaft List. Cientos de anuncios gratuitos de vehículos se publican en tu sitio web cada día. Necesitas estudiar los datos recopilados durante los últimos años y determinar qué factores influyen en el precio de un vehículo."
   ]
  },
  {
   "cell_type": "markdown",
   "metadata": {},
   "source": [
    "## Inicialización"
   ]
  },
  {
   "cell_type": "code",
   "execution_count": 12,
   "metadata": {},
   "outputs": [],
   "source": [
    "# Cargar todas las librerías\n",
    "\n",
    "import pandas as pd\n",
    "import numpy as np\n",
    "import matplotlib.pyplot as plt\n",
    "import seaborn as sns"
   ]
  },
  {
   "cell_type": "markdown",
   "metadata": {},
   "source": [
    "### Cargar datos"
   ]
  },
  {
   "cell_type": "code",
   "execution_count": 13,
   "metadata": {},
   "outputs": [],
   "source": [
    "# Carga el archivo de datos en un DataFrame\n",
    "url = 'https://raw.githubusercontent.com/doalpinc98/proyecto_4_vehiculos/main/vehicles_us.csv'\n",
    "data = pd.read_csv(url)"
   ]
  },
  {
   "cell_type": "markdown",
   "metadata": {},
   "source": [
    "### Explorar datos iniciales"
   ]
  },
  {
   "cell_type": "markdown",
   "metadata": {},
   "source": [
    "El dataset contiene los siguientes campos:\n",
    "- `price` - precio del vehículo\n",
    "- `model_year` - año del modelo de vehículo\n",
    "- `model` - modelo del vehículo\n",
    "- `condition` - condicion del vehiculo\n",
    "- `cylinders` - cilindraje del vehículo\n",
    "- `fuel` — gasolina, diesel, etc.\n",
    "- `odometer` — el millaje del vehículo cuando el anuncio fue publicado\n",
    "- `transmission` - tipo de transmisión de vehículo\n",
    "- `paint_color` - color de vehículo\n",
    "- `is_4wd` — si el vehículo tiene tracción a las 4 ruedas (tipo Booleano)\n",
    "- `date_posted` — la fecha en la que el anuncio fue publicado\n",
    "- `days_listed` — desde la publicación hasta que se elimina\n",
    "\n"
   ]
  },
  {
   "cell_type": "code",
   "execution_count": 14,
   "metadata": {},
   "outputs": [
    {
     "name": "stdout",
     "output_type": "stream",
     "text": [
      "<class 'pandas.core.frame.DataFrame'>\n",
      "RangeIndex: 51525 entries, 0 to 51524\n",
      "Data columns (total 13 columns):\n",
      " #   Column        Non-Null Count  Dtype  \n",
      "---  ------        --------------  -----  \n",
      " 0   price         51525 non-null  int64  \n",
      " 1   model_year    47906 non-null  float64\n",
      " 2   model         51525 non-null  object \n",
      " 3   condition     51525 non-null  object \n",
      " 4   cylinders     46265 non-null  float64\n",
      " 5   fuel          51525 non-null  object \n",
      " 6   odometer      43633 non-null  float64\n",
      " 7   transmission  51525 non-null  object \n",
      " 8   type          51525 non-null  object \n",
      " 9   paint_color   42258 non-null  object \n",
      " 10  is_4wd        25572 non-null  float64\n",
      " 11  date_posted   51525 non-null  object \n",
      " 12  days_listed   51525 non-null  int64  \n",
      "dtypes: float64(4), int64(2), object(7)\n",
      "memory usage: 5.1+ MB\n"
     ]
    }
   ],
   "source": [
    "# imprime la información general/resumida sobre el DataFrame\n",
    "\n",
    "data.info()"
   ]
  },
  {
   "cell_type": "markdown",
   "metadata": {},
   "source": [
    "Basado en los tipos de datos se detecta que 'date_posted' debería encontrarse en formato de fecha, 'is_4wd'debería encontrarse como variable booleana, 'model_year' y 'cylinder' debería ser una variable tipo 'int'. "
   ]
  },
  {
   "cell_type": "code",
   "execution_count": 15,
   "metadata": {},
   "outputs": [
    {
     "data": {
      "text/html": [
       "<div>\n",
       "<style scoped>\n",
       "    .dataframe tbody tr th:only-of-type {\n",
       "        vertical-align: middle;\n",
       "    }\n",
       "\n",
       "    .dataframe tbody tr th {\n",
       "        vertical-align: top;\n",
       "    }\n",
       "\n",
       "    .dataframe thead th {\n",
       "        text-align: right;\n",
       "    }\n",
       "</style>\n",
       "<table border=\"1\" class=\"dataframe\">\n",
       "  <thead>\n",
       "    <tr style=\"text-align: right;\">\n",
       "      <th></th>\n",
       "      <th>price</th>\n",
       "      <th>model_year</th>\n",
       "      <th>model</th>\n",
       "      <th>condition</th>\n",
       "      <th>cylinders</th>\n",
       "      <th>fuel</th>\n",
       "      <th>odometer</th>\n",
       "      <th>transmission</th>\n",
       "      <th>type</th>\n",
       "      <th>paint_color</th>\n",
       "      <th>is_4wd</th>\n",
       "      <th>date_posted</th>\n",
       "      <th>days_listed</th>\n",
       "    </tr>\n",
       "  </thead>\n",
       "  <tbody>\n",
       "    <tr>\n",
       "      <th>0</th>\n",
       "      <td>9400</td>\n",
       "      <td>2011.0</td>\n",
       "      <td>bmw x5</td>\n",
       "      <td>good</td>\n",
       "      <td>6.0</td>\n",
       "      <td>gas</td>\n",
       "      <td>145000.0</td>\n",
       "      <td>automatic</td>\n",
       "      <td>SUV</td>\n",
       "      <td>NaN</td>\n",
       "      <td>1.0</td>\n",
       "      <td>2018-06-23</td>\n",
       "      <td>19</td>\n",
       "    </tr>\n",
       "    <tr>\n",
       "      <th>1</th>\n",
       "      <td>25500</td>\n",
       "      <td>NaN</td>\n",
       "      <td>ford f-150</td>\n",
       "      <td>good</td>\n",
       "      <td>6.0</td>\n",
       "      <td>gas</td>\n",
       "      <td>88705.0</td>\n",
       "      <td>automatic</td>\n",
       "      <td>pickup</td>\n",
       "      <td>white</td>\n",
       "      <td>1.0</td>\n",
       "      <td>2018-10-19</td>\n",
       "      <td>50</td>\n",
       "    </tr>\n",
       "    <tr>\n",
       "      <th>2</th>\n",
       "      <td>5500</td>\n",
       "      <td>2013.0</td>\n",
       "      <td>hyundai sonata</td>\n",
       "      <td>like new</td>\n",
       "      <td>4.0</td>\n",
       "      <td>gas</td>\n",
       "      <td>110000.0</td>\n",
       "      <td>automatic</td>\n",
       "      <td>sedan</td>\n",
       "      <td>red</td>\n",
       "      <td>NaN</td>\n",
       "      <td>2019-02-07</td>\n",
       "      <td>79</td>\n",
       "    </tr>\n",
       "    <tr>\n",
       "      <th>3</th>\n",
       "      <td>1500</td>\n",
       "      <td>2003.0</td>\n",
       "      <td>ford f-150</td>\n",
       "      <td>fair</td>\n",
       "      <td>8.0</td>\n",
       "      <td>gas</td>\n",
       "      <td>NaN</td>\n",
       "      <td>automatic</td>\n",
       "      <td>pickup</td>\n",
       "      <td>NaN</td>\n",
       "      <td>NaN</td>\n",
       "      <td>2019-03-22</td>\n",
       "      <td>9</td>\n",
       "    </tr>\n",
       "    <tr>\n",
       "      <th>4</th>\n",
       "      <td>14900</td>\n",
       "      <td>2017.0</td>\n",
       "      <td>chrysler 200</td>\n",
       "      <td>excellent</td>\n",
       "      <td>4.0</td>\n",
       "      <td>gas</td>\n",
       "      <td>80903.0</td>\n",
       "      <td>automatic</td>\n",
       "      <td>sedan</td>\n",
       "      <td>black</td>\n",
       "      <td>NaN</td>\n",
       "      <td>2019-04-02</td>\n",
       "      <td>28</td>\n",
       "    </tr>\n",
       "    <tr>\n",
       "      <th>5</th>\n",
       "      <td>14990</td>\n",
       "      <td>2014.0</td>\n",
       "      <td>chrysler 300</td>\n",
       "      <td>excellent</td>\n",
       "      <td>6.0</td>\n",
       "      <td>gas</td>\n",
       "      <td>57954.0</td>\n",
       "      <td>automatic</td>\n",
       "      <td>sedan</td>\n",
       "      <td>black</td>\n",
       "      <td>1.0</td>\n",
       "      <td>2018-06-20</td>\n",
       "      <td>15</td>\n",
       "    </tr>\n",
       "    <tr>\n",
       "      <th>6</th>\n",
       "      <td>12990</td>\n",
       "      <td>2015.0</td>\n",
       "      <td>toyota camry</td>\n",
       "      <td>excellent</td>\n",
       "      <td>4.0</td>\n",
       "      <td>gas</td>\n",
       "      <td>79212.0</td>\n",
       "      <td>automatic</td>\n",
       "      <td>sedan</td>\n",
       "      <td>white</td>\n",
       "      <td>NaN</td>\n",
       "      <td>2018-12-27</td>\n",
       "      <td>73</td>\n",
       "    </tr>\n",
       "    <tr>\n",
       "      <th>7</th>\n",
       "      <td>15990</td>\n",
       "      <td>2013.0</td>\n",
       "      <td>honda pilot</td>\n",
       "      <td>excellent</td>\n",
       "      <td>6.0</td>\n",
       "      <td>gas</td>\n",
       "      <td>109473.0</td>\n",
       "      <td>automatic</td>\n",
       "      <td>SUV</td>\n",
       "      <td>black</td>\n",
       "      <td>1.0</td>\n",
       "      <td>2019-01-07</td>\n",
       "      <td>68</td>\n",
       "    </tr>\n",
       "    <tr>\n",
       "      <th>8</th>\n",
       "      <td>11500</td>\n",
       "      <td>2012.0</td>\n",
       "      <td>kia sorento</td>\n",
       "      <td>excellent</td>\n",
       "      <td>4.0</td>\n",
       "      <td>gas</td>\n",
       "      <td>104174.0</td>\n",
       "      <td>automatic</td>\n",
       "      <td>SUV</td>\n",
       "      <td>NaN</td>\n",
       "      <td>1.0</td>\n",
       "      <td>2018-07-16</td>\n",
       "      <td>19</td>\n",
       "    </tr>\n",
       "    <tr>\n",
       "      <th>9</th>\n",
       "      <td>9200</td>\n",
       "      <td>2008.0</td>\n",
       "      <td>honda pilot</td>\n",
       "      <td>excellent</td>\n",
       "      <td>NaN</td>\n",
       "      <td>gas</td>\n",
       "      <td>147191.0</td>\n",
       "      <td>automatic</td>\n",
       "      <td>SUV</td>\n",
       "      <td>blue</td>\n",
       "      <td>1.0</td>\n",
       "      <td>2019-02-15</td>\n",
       "      <td>17</td>\n",
       "    </tr>\n",
       "  </tbody>\n",
       "</table>\n",
       "</div>"
      ],
      "text/plain": [
       "   price  model_year           model  condition  cylinders fuel  odometer  \\\n",
       "0   9400      2011.0          bmw x5       good        6.0  gas  145000.0   \n",
       "1  25500         NaN      ford f-150       good        6.0  gas   88705.0   \n",
       "2   5500      2013.0  hyundai sonata   like new        4.0  gas  110000.0   \n",
       "3   1500      2003.0      ford f-150       fair        8.0  gas       NaN   \n",
       "4  14900      2017.0    chrysler 200  excellent        4.0  gas   80903.0   \n",
       "5  14990      2014.0    chrysler 300  excellent        6.0  gas   57954.0   \n",
       "6  12990      2015.0    toyota camry  excellent        4.0  gas   79212.0   \n",
       "7  15990      2013.0     honda pilot  excellent        6.0  gas  109473.0   \n",
       "8  11500      2012.0     kia sorento  excellent        4.0  gas  104174.0   \n",
       "9   9200      2008.0     honda pilot  excellent        NaN  gas  147191.0   \n",
       "\n",
       "  transmission    type paint_color  is_4wd date_posted  days_listed  \n",
       "0    automatic     SUV         NaN     1.0  2018-06-23           19  \n",
       "1    automatic  pickup       white     1.0  2018-10-19           50  \n",
       "2    automatic   sedan         red     NaN  2019-02-07           79  \n",
       "3    automatic  pickup         NaN     NaN  2019-03-22            9  \n",
       "4    automatic   sedan       black     NaN  2019-04-02           28  \n",
       "5    automatic   sedan       black     1.0  2018-06-20           15  \n",
       "6    automatic   sedan       white     NaN  2018-12-27           73  \n",
       "7    automatic     SUV       black     1.0  2019-01-07           68  \n",
       "8    automatic     SUV         NaN     1.0  2018-07-16           19  \n",
       "9    automatic     SUV        blue     1.0  2019-02-15           17  "
      ]
     },
     "execution_count": 15,
     "metadata": {},
     "output_type": "execute_result"
    }
   ],
   "source": [
    "# imprimir una muestra de datos\n",
    "data.head(10)\n"
   ]
  },
  {
   "cell_type": "markdown",
   "metadata": {},
   "source": [
    "Como se puede observar en la tabla existen datos ausentes en la columna 'model_year', 'cylinder', 'odometer', 'paint_color', 'is_4wd'. "
   ]
  },
  {
   "cell_type": "code",
   "execution_count": 16,
   "metadata": {},
   "outputs": [
    {
     "data": {
      "text/plain": [
       "price            0.000000\n",
       "model_year       7.023775\n",
       "model            0.000000\n",
       "condition        0.000000\n",
       "cylinders       10.208637\n",
       "fuel             0.000000\n",
       "odometer        15.316836\n",
       "transmission     0.000000\n",
       "type             0.000000\n",
       "paint_color     17.985444\n",
       "is_4wd          50.369723\n",
       "date_posted      0.000000\n",
       "days_listed      0.000000\n",
       "dtype: float64"
      ]
     },
     "execution_count": 16,
     "metadata": {},
     "output_type": "execute_result"
    }
   ],
   "source": [
    "100*data.isna().sum()/data.shape[0]"
   ]
  },
  {
   "cell_type": "markdown",
   "metadata": {},
   "source": [
    "Se observa que existe una ausencia de: <br> \n",
    "7% en 'model_year', <br>\n",
    "10% en 'cylinders', <br>\n",
    "15% en 'odometer', <br>\n",
    "17% en 'paint_color', <br>\n",
    "50% en 'is_4wd'"
   ]
  },
  {
   "cell_type": "code",
   "execution_count": 17,
   "metadata": {},
   "outputs": [
    {
     "data": {
      "text/plain": [
       "0"
      ]
     },
     "execution_count": 17,
     "metadata": {},
     "output_type": "execute_result"
    }
   ],
   "source": [
    "data.duplicated().sum()"
   ]
  },
  {
   "cell_type": "markdown",
   "metadata": {},
   "source": [
    "Se comprueba que no existe datos duplicados en la base original."
   ]
  },
  {
   "cell_type": "markdown",
   "metadata": {},
   "source": [
    "### Conclusiones y siguientes pasos\n",
    "\n",
    "Se logró observar que los datos comprenden cierta cantidad de datos ausentes. En mayor porcentaje de ausencia la variable 'is_4d', para la cual se realizará el respectivo tratamiento de la variable, así como de sus consecutivos en asuencia. El objetivo de identificar aquellos datos con ausencia de datos nos permite realizar un procesamiento de los mismos, antes de continuar con un análisis y concluir con el factor que afecta el precio de venta de los vehículos."
   ]
  },
  {
   "cell_type": "markdown",
   "metadata": {},
   "source": [
    "## Tratar los valores ausentes (si hay)"
   ]
  },
  {
   "cell_type": "markdown",
   "metadata": {},
   "source": [
    "### Reemplazo de ausentes en 'is_4wd'"
   ]
  },
  {
   "cell_type": "code",
   "execution_count": 18,
   "metadata": {
    "scrolled": true
   },
   "outputs": [
    {
     "name": "stdout",
     "output_type": "stream",
     "text": [
      "<class 'pandas.core.frame.DataFrame'>\n",
      "RangeIndex: 51525 entries, 0 to 51524\n",
      "Data columns (total 13 columns):\n",
      " #   Column        Non-Null Count  Dtype  \n",
      "---  ------        --------------  -----  \n",
      " 0   price         51525 non-null  int64  \n",
      " 1   model_year    47906 non-null  float64\n",
      " 2   model         51525 non-null  object \n",
      " 3   condition     51525 non-null  object \n",
      " 4   cylinders     46265 non-null  float64\n",
      " 5   fuel          51525 non-null  object \n",
      " 6   odometer      43633 non-null  float64\n",
      " 7   transmission  51525 non-null  object \n",
      " 8   type          51525 non-null  object \n",
      " 9   paint_color   42258 non-null  object \n",
      " 10  is_4wd        51525 non-null  float64\n",
      " 11  date_posted   51525 non-null  object \n",
      " 12  days_listed   51525 non-null  int64  \n",
      "dtypes: float64(4), int64(2), object(7)\n",
      "memory usage: 5.1+ MB\n",
      "\n"
     ]
    },
    {
     "data": {
      "text/html": [
       "<div>\n",
       "<style scoped>\n",
       "    .dataframe tbody tr th:only-of-type {\n",
       "        vertical-align: middle;\n",
       "    }\n",
       "\n",
       "    .dataframe tbody tr th {\n",
       "        vertical-align: top;\n",
       "    }\n",
       "\n",
       "    .dataframe thead th {\n",
       "        text-align: right;\n",
       "    }\n",
       "</style>\n",
       "<table border=\"1\" class=\"dataframe\">\n",
       "  <thead>\n",
       "    <tr style=\"text-align: right;\">\n",
       "      <th></th>\n",
       "      <th>price</th>\n",
       "      <th>model_year</th>\n",
       "      <th>model</th>\n",
       "      <th>condition</th>\n",
       "      <th>cylinders</th>\n",
       "      <th>fuel</th>\n",
       "      <th>odometer</th>\n",
       "      <th>transmission</th>\n",
       "      <th>type</th>\n",
       "      <th>paint_color</th>\n",
       "      <th>is_4wd</th>\n",
       "      <th>date_posted</th>\n",
       "      <th>days_listed</th>\n",
       "    </tr>\n",
       "  </thead>\n",
       "  <tbody>\n",
       "    <tr>\n",
       "      <th>0</th>\n",
       "      <td>9400</td>\n",
       "      <td>2011.0</td>\n",
       "      <td>bmw x5</td>\n",
       "      <td>good</td>\n",
       "      <td>6.0</td>\n",
       "      <td>gas</td>\n",
       "      <td>145000.0</td>\n",
       "      <td>automatic</td>\n",
       "      <td>SUV</td>\n",
       "      <td>NaN</td>\n",
       "      <td>1.0</td>\n",
       "      <td>2018-06-23</td>\n",
       "      <td>19</td>\n",
       "    </tr>\n",
       "    <tr>\n",
       "      <th>1</th>\n",
       "      <td>25500</td>\n",
       "      <td>NaN</td>\n",
       "      <td>ford f-150</td>\n",
       "      <td>good</td>\n",
       "      <td>6.0</td>\n",
       "      <td>gas</td>\n",
       "      <td>88705.0</td>\n",
       "      <td>automatic</td>\n",
       "      <td>pickup</td>\n",
       "      <td>white</td>\n",
       "      <td>1.0</td>\n",
       "      <td>2018-10-19</td>\n",
       "      <td>50</td>\n",
       "    </tr>\n",
       "    <tr>\n",
       "      <th>2</th>\n",
       "      <td>5500</td>\n",
       "      <td>2013.0</td>\n",
       "      <td>hyundai sonata</td>\n",
       "      <td>like new</td>\n",
       "      <td>4.0</td>\n",
       "      <td>gas</td>\n",
       "      <td>110000.0</td>\n",
       "      <td>automatic</td>\n",
       "      <td>sedan</td>\n",
       "      <td>red</td>\n",
       "      <td>0.0</td>\n",
       "      <td>2019-02-07</td>\n",
       "      <td>79</td>\n",
       "    </tr>\n",
       "    <tr>\n",
       "      <th>3</th>\n",
       "      <td>1500</td>\n",
       "      <td>2003.0</td>\n",
       "      <td>ford f-150</td>\n",
       "      <td>fair</td>\n",
       "      <td>8.0</td>\n",
       "      <td>gas</td>\n",
       "      <td>NaN</td>\n",
       "      <td>automatic</td>\n",
       "      <td>pickup</td>\n",
       "      <td>NaN</td>\n",
       "      <td>0.0</td>\n",
       "      <td>2019-03-22</td>\n",
       "      <td>9</td>\n",
       "    </tr>\n",
       "    <tr>\n",
       "      <th>4</th>\n",
       "      <td>14900</td>\n",
       "      <td>2017.0</td>\n",
       "      <td>chrysler 200</td>\n",
       "      <td>excellent</td>\n",
       "      <td>4.0</td>\n",
       "      <td>gas</td>\n",
       "      <td>80903.0</td>\n",
       "      <td>automatic</td>\n",
       "      <td>sedan</td>\n",
       "      <td>black</td>\n",
       "      <td>0.0</td>\n",
       "      <td>2019-04-02</td>\n",
       "      <td>28</td>\n",
       "    </tr>\n",
       "  </tbody>\n",
       "</table>\n",
       "</div>"
      ],
      "text/plain": [
       "   price  model_year           model  condition  cylinders fuel  odometer  \\\n",
       "0   9400      2011.0          bmw x5       good        6.0  gas  145000.0   \n",
       "1  25500         NaN      ford f-150       good        6.0  gas   88705.0   \n",
       "2   5500      2013.0  hyundai sonata   like new        4.0  gas  110000.0   \n",
       "3   1500      2003.0      ford f-150       fair        8.0  gas       NaN   \n",
       "4  14900      2017.0    chrysler 200  excellent        4.0  gas   80903.0   \n",
       "\n",
       "  transmission    type paint_color  is_4wd date_posted  days_listed  \n",
       "0    automatic     SUV         NaN     1.0  2018-06-23           19  \n",
       "1    automatic  pickup       white     1.0  2018-10-19           50  \n",
       "2    automatic   sedan         red     0.0  2019-02-07           79  \n",
       "3    automatic  pickup         NaN     0.0  2019-03-22            9  \n",
       "4    automatic   sedan       black     0.0  2019-04-02           28  "
      ]
     },
     "execution_count": 18,
     "metadata": {},
     "output_type": "execute_result"
    }
   ],
   "source": [
    "def reemplazar(row):\n",
    "    is_4wd = row['is_4wd']\n",
    "    if pd.isna(is_4wd)==True:\n",
    "        return 0\n",
    "    else:\n",
    "        return  is_4wd\n",
    "    \n",
    "data['is_4wd'] = data.apply(reemplazar, axis=1)\n",
    "\n",
    "data.info()\n",
    "print()\n",
    "data.head()"
   ]
  },
  {
   "cell_type": "markdown",
   "metadata": {},
   "source": [
    "Se reemplazó los valores ausentes de la columna 'is_4wd' donde todos los ausentes se asumió como que dichos vehículos no cuentan con tracción en las 4 ruedas.\n"
   ]
  },
  {
   "cell_type": "markdown",
   "metadata": {},
   "source": [
    "Se asume que:\n",
    "    1. El año del modelo del vehículo está relacionado al modelo. \n",
    "    2. El cilindraje se conoce que depende del tipo de vehículo.\n",
    "    3. El kilometraje se relaciona al tiempo o tipo de vehículo. \n",
    "    4. No se observa relación de la variable 'paint_color' con otra variable de la tabla. "
   ]
  },
  {
   "cell_type": "markdown",
   "metadata": {},
   "source": [
    "### Reemplazo de ausentes en 'model_year'"
   ]
  },
  {
   "cell_type": "code",
   "execution_count": 19,
   "metadata": {},
   "outputs": [
    {
     "name": "stdout",
     "output_type": "stream",
     "text": [
      "2009\n",
      "2011.0\n",
      "\n",
      "Axes(0.125,0.11;0.775x0.77)\n"
     ]
    },
    {
     "data": {
      "image/png": "[encoded data removed]",
      "text/plain": [
       "<Figure size 640x480 with 1 Axes>"
      ]
     },
     "metadata": {},
     "output_type": "display_data"
    }
   ],
   "source": [
    "print(data['model_year'].mean().astype(int))\n",
    "print(data['model_year'].median())\n",
    "print()\n",
    "print(data['model_year'].hist(bins=50, range=(1950,2022)))"
   ]
  },
  {
   "cell_type": "code",
   "execution_count": 20,
   "metadata": {},
   "outputs": [
    {
     "name": "stdout",
     "output_type": "stream",
     "text": [
      "Axes(0.125,0.11;0.775x0.77)\n"
     ]
    },
    {
     "data": {
      "text/plain": [
       "(1950.0, 2022.0)"
      ]
     },
     "execution_count": 20,
     "metadata": {},
     "output_type": "execute_result"
    },
    {
     "data": {
      "image/png": "[encoded data removed]",
      "text/plain": [
       "<Figure size 640x480 with 1 Axes>"
      ]
     },
     "metadata": {},
     "output_type": "display_data"
    }
   ],
   "source": [
    "print(data.boxplot('model_year'))\n",
    "plt.ylim(1950,2022)"
   ]
  },
  {
   "cell_type": "markdown",
   "metadata": {},
   "source": [
    "Se observa cierta cantidad de valores aberrantes que se detectan con facilidad con el diagrama de cajas, estos mismos salen de los bigotes del diagrama. El efecto de los datos aberrantes es imperceptible sobre la mediana a diferencia de la media aritmética que se ve afectada de manera notoria. Es por ello que la media aritmética no es la mejor medida de tendencia central en este caso. "
   ]
  },
  {
   "cell_type": "code",
   "execution_count": 21,
   "metadata": {},
   "outputs": [
    {
     "data": {
      "text/html": [
       "<div>\n",
       "<style scoped>\n",
       "    .dataframe tbody tr th:only-of-type {\n",
       "        vertical-align: middle;\n",
       "    }\n",
       "\n",
       "    .dataframe tbody tr th {\n",
       "        vertical-align: top;\n",
       "    }\n",
       "\n",
       "    .dataframe thead th {\n",
       "        text-align: right;\n",
       "    }\n",
       "</style>\n",
       "<table border=\"1\" class=\"dataframe\">\n",
       "  <thead>\n",
       "    <tr style=\"text-align: right;\">\n",
       "      <th></th>\n",
       "      <th>price</th>\n",
       "      <th>model_year</th>\n",
       "      <th>model</th>\n",
       "      <th>condition</th>\n",
       "      <th>cylinders</th>\n",
       "      <th>fuel</th>\n",
       "      <th>odometer</th>\n",
       "      <th>transmission</th>\n",
       "      <th>type</th>\n",
       "      <th>paint_color</th>\n",
       "      <th>is_4wd</th>\n",
       "      <th>date_posted</th>\n",
       "      <th>days_listed</th>\n",
       "    </tr>\n",
       "  </thead>\n",
       "  <tbody>\n",
       "    <tr>\n",
       "      <th>1</th>\n",
       "      <td>25500</td>\n",
       "      <td>NaN</td>\n",
       "      <td>ford f-150</td>\n",
       "      <td>good</td>\n",
       "      <td>6.0</td>\n",
       "      <td>gas</td>\n",
       "      <td>88705.0</td>\n",
       "      <td>automatic</td>\n",
       "      <td>pickup</td>\n",
       "      <td>white</td>\n",
       "      <td>1.0</td>\n",
       "      <td>2018-10-19</td>\n",
       "      <td>50</td>\n",
       "    </tr>\n",
       "    <tr>\n",
       "      <th>20</th>\n",
       "      <td>6990</td>\n",
       "      <td>NaN</td>\n",
       "      <td>chevrolet tahoe</td>\n",
       "      <td>excellent</td>\n",
       "      <td>8.0</td>\n",
       "      <td>gas</td>\n",
       "      <td>147485.0</td>\n",
       "      <td>automatic</td>\n",
       "      <td>SUV</td>\n",
       "      <td>silver</td>\n",
       "      <td>1.0</td>\n",
       "      <td>2018-08-05</td>\n",
       "      <td>28</td>\n",
       "    </tr>\n",
       "    <tr>\n",
       "      <th>65</th>\n",
       "      <td>12800</td>\n",
       "      <td>NaN</td>\n",
       "      <td>ford f-150</td>\n",
       "      <td>excellent</td>\n",
       "      <td>6.0</td>\n",
       "      <td>gas</td>\n",
       "      <td>108500.0</td>\n",
       "      <td>automatic</td>\n",
       "      <td>pickup</td>\n",
       "      <td>white</td>\n",
       "      <td>0.0</td>\n",
       "      <td>2018-09-23</td>\n",
       "      <td>15</td>\n",
       "    </tr>\n",
       "    <tr>\n",
       "      <th>69</th>\n",
       "      <td>7800</td>\n",
       "      <td>NaN</td>\n",
       "      <td>ford f-150</td>\n",
       "      <td>like new</td>\n",
       "      <td>8.0</td>\n",
       "      <td>gas</td>\n",
       "      <td>97510.0</td>\n",
       "      <td>automatic</td>\n",
       "      <td>truck</td>\n",
       "      <td>white</td>\n",
       "      <td>1.0</td>\n",
       "      <td>2019-02-20</td>\n",
       "      <td>39</td>\n",
       "    </tr>\n",
       "    <tr>\n",
       "      <th>72</th>\n",
       "      <td>3650</td>\n",
       "      <td>NaN</td>\n",
       "      <td>subaru impreza</td>\n",
       "      <td>excellent</td>\n",
       "      <td>NaN</td>\n",
       "      <td>gas</td>\n",
       "      <td>74000.0</td>\n",
       "      <td>automatic</td>\n",
       "      <td>sedan</td>\n",
       "      <td>blue</td>\n",
       "      <td>1.0</td>\n",
       "      <td>2018-08-07</td>\n",
       "      <td>60</td>\n",
       "    </tr>\n",
       "  </tbody>\n",
       "</table>\n",
       "</div>"
      ],
      "text/plain": [
       "    price  model_year            model  condition  cylinders fuel  odometer  \\\n",
       "1   25500         NaN       ford f-150       good        6.0  gas   88705.0   \n",
       "20   6990         NaN  chevrolet tahoe  excellent        8.0  gas  147485.0   \n",
       "65  12800         NaN       ford f-150  excellent        6.0  gas  108500.0   \n",
       "69   7800         NaN       ford f-150   like new        8.0  gas   97510.0   \n",
       "72   3650         NaN   subaru impreza  excellent        NaN  gas   74000.0   \n",
       "\n",
       "   transmission    type paint_color  is_4wd date_posted  days_listed  \n",
       "1     automatic  pickup       white     1.0  2018-10-19           50  \n",
       "20    automatic     SUV      silver     1.0  2018-08-05           28  \n",
       "65    automatic  pickup       white     0.0  2018-09-23           15  \n",
       "69    automatic   truck       white     1.0  2019-02-20           39  \n",
       "72    automatic   sedan        blue     1.0  2018-08-07           60  "
      ]
     },
     "execution_count": 21,
     "metadata": {},
     "output_type": "execute_result"
    }
   ],
   "source": [
    "data.loc[data['model_year'].isna()].head()"
   ]
  },
  {
   "cell_type": "markdown",
   "metadata": {},
   "source": [
    "A continuación y basado en el análisis se agrupará los datos por modelo de vehículo y se calculará la mediana de año del modelo. Para posteriormente realizar el reemplazo de valores ausentes."
   ]
  },
  {
   "cell_type": "code",
   "execution_count": 22,
   "metadata": {},
   "outputs": [
    {
     "name": "stdout",
     "output_type": "stream",
     "text": [
      "model\n",
      "acura tl             2007.0\n",
      "bmw x5               2010.0\n",
      "buick enclave        2012.0\n",
      "cadillac escalade    2009.0\n",
      "chevrolet camaro     2013.0\n",
      "                      ...  \n",
      "toyota sienna        2008.0\n",
      "toyota tacoma        2010.0\n",
      "toyota tundra        2009.0\n",
      "volkswagen jetta     2012.0\n",
      "volkswagen passat    2013.0\n",
      "Name: model_year, Length: 100, dtype: float64\n"
     ]
    }
   ],
   "source": [
    "#Agrupar usando a mediana de model year \n",
    "model_median_grouped = data.groupby('model')['model_year'].median()\n",
    "print(model_median_grouped)"
   ]
  },
  {
   "cell_type": "markdown",
   "metadata": {},
   "source": [
    "A partir de una función se utilizará parte de los datos anteriores agrupados para realizar el reemplazo de valores ausentes por el año del modelo de vehículo respectivo. "
   ]
  },
  {
   "cell_type": "code",
   "execution_count": 23,
   "metadata": {},
   "outputs": [],
   "source": [
    "#Función para eliminar los datos ausentes de'model_year'\n",
    "def reemplazar_model_year(row):\n",
    "    model_year= row['model_year']\n",
    "    if pd.isna(model_year)==True:\n",
    "        return model_median_grouped[row['model']]\n",
    "    else:\n",
    "        return model_year\n",
    "data['model_year']= data.apply(reemplazar_model_year, axis= 1)"
   ]
  },
  {
   "cell_type": "markdown",
   "metadata": {},
   "source": [
    "Recordando que en un principio se mostró las primeras 10 filas de una tabla, y la fila 1 contenía un dato ausente en año del vehículo, se lo mostrará a en breve para observar como ahora contiene un valor basado en la función utilizada."
   ]
  },
  {
   "cell_type": "code",
   "execution_count": 24,
   "metadata": {},
   "outputs": [
    {
     "name": "stdout",
     "output_type": "stream",
     "text": [
      "price                25500\n",
      "model_year          2011.0\n",
      "model           ford f-150\n",
      "condition             good\n",
      "cylinders              6.0\n",
      "fuel                   gas\n",
      "odometer           88705.0\n",
      "transmission     automatic\n",
      "type                pickup\n",
      "paint_color          white\n",
      "is_4wd                 1.0\n",
      "date_posted     2018-10-19\n",
      "days_listed             50\n",
      "Name: 1, dtype: object\n"
     ]
    }
   ],
   "source": [
    "print(data.iloc[1])"
   ]
  },
  {
   "cell_type": "markdown",
   "metadata": {},
   "source": [
    "### Reemplazar datos ausentes de cylinders"
   ]
  },
  {
   "cell_type": "markdown",
   "metadata": {},
   "source": [
    "A continuación, se utilizará como referencia el tipo de vehículo para conocer el cilindraje de cada uno y encontrar así la relación de dichos datos. "
   ]
  },
  {
   "cell_type": "code",
   "execution_count": 25,
   "metadata": {},
   "outputs": [
    {
     "data": {
      "text/plain": [
       "([0, 1, 2, 3, 4, 5, 6, 7, 8, 9, 10, 11, 12],\n",
       " [Text(0, 0, 'SUV'),\n",
       "  Text(1, 0, 'bus'),\n",
       "  Text(2, 0, 'convertible'),\n",
       "  Text(3, 0, 'coupe'),\n",
       "  Text(4, 0, 'hatchback'),\n",
       "  Text(5, 0, 'mini-van'),\n",
       "  Text(6, 0, 'offroad'),\n",
       "  Text(7, 0, 'other'),\n",
       "  Text(8, 0, 'pickup'),\n",
       "  Text(9, 0, 'sedan'),\n",
       "  Text(10, 0, 'truck'),\n",
       "  Text(11, 0, 'van'),\n",
       "  Text(12, 0, 'wagon')])"
      ]
     },
     "execution_count": 25,
     "metadata": {},
     "output_type": "execute_result"
    },
    {
     "data": {
      "image/png": "[encoded data removed]",
      "text/plain": [
       "<Figure size 640x480 with 1 Axes>"
      ]
     },
     "metadata": {},
     "output_type": "display_data"
    }
   ],
   "source": [
    "\n",
    "data.loc[data['cylinders'].isna()]['type'].sort_values(ascending=True).hist(bins=30)\n",
    "plt.xticks(rotation = 30)"
   ]
  },
  {
   "cell_type": "code",
   "execution_count": 26,
   "metadata": {},
   "outputs": [
    {
     "name": "stdout",
     "output_type": "stream",
     "text": [
      "6\n",
      "6.0\n"
     ]
    }
   ],
   "source": [
    "# Analizamos la mediana y media de la data en general segun cylinders\n",
    "print(data['cylinders'].mean().astype(int))\n",
    "print(data['cylinders'].median())"
   ]
  },
  {
   "cell_type": "markdown",
   "metadata": {},
   "source": [
    "En este caso, tanto la media como la mediana son iguales. Por tando la tendencia central de cilindraje es 6. Se creará un diccionario que relacione el cilindraje con el tipo de vehículo, lo cual nos será util para reemplazar los valores ausentes. "
   ]
  },
  {
   "cell_type": "code",
   "execution_count": 27,
   "metadata": {},
   "outputs": [
    {
     "name": "stdout",
     "output_type": "stream",
     "text": [
      "{'cylinders': {'SUV': 5, 'bus': 9, 'convertible': 6, 'coupe': 6, 'hatchback': 4, 'mini-van': 5, 'offroad': 6, 'other': 5, 'pickup': 7, 'sedan': 4, 'truck': 7, 'van': 6, 'wagon': 4}}\n"
     ]
    }
   ],
   "source": [
    "#Creamos un diccionario que nos permita obtener el promedio de cilindraje según el tipo de vehículo \n",
    "cylinders_mean = (data.\n",
    "                 pivot_table(index='type', values= 'cylinders', aggfunc= 'mean')\n",
    "                 .astype(int)\n",
    "                 .to_dict()\n",
    "                 )\n",
    "print(cylinders_mean)"
   ]
  },
  {
   "cell_type": "code",
   "execution_count": 28,
   "metadata": {},
   "outputs": [
    {
     "data": {
      "text/plain": [
       "{'SUV': 5,\n",
       " 'bus': 9,\n",
       " 'convertible': 6,\n",
       " 'coupe': 6,\n",
       " 'hatchback': 4,\n",
       " 'mini-van': 5,\n",
       " 'offroad': 6,\n",
       " 'other': 5,\n",
       " 'pickup': 7,\n",
       " 'sedan': 4,\n",
       " 'truck': 7,\n",
       " 'van': 6,\n",
       " 'wagon': 4}"
      ]
     },
     "execution_count": 28,
     "metadata": {},
     "output_type": "execute_result"
    }
   ],
   "source": [
    "cylinders_mean = cylinders_mean['cylinders']\n",
    "cylinders_mean"
   ]
  },
  {
   "cell_type": "markdown",
   "metadata": {},
   "source": [
    "Se observa que los vehiculos de carga pesada como el bus y camion tienen un cilindraje mayor a aquellos vehiculos pequeños o de baja capacidad como un SUV. "
   ]
  },
  {
   "cell_type": "code",
   "execution_count": 29,
   "metadata": {},
   "outputs": [],
   "source": [
    "data['cylinders']=data['cylinders'].fillna(data['type'].map(cylinders_mean))"
   ]
  },
  {
   "cell_type": "markdown",
   "metadata": {},
   "source": [
    "Recordando la fila 9 de la tabla mostrada en un inicio, existia una ausencia de valor de cilindraje. "
   ]
  },
  {
   "cell_type": "code",
   "execution_count": 30,
   "metadata": {},
   "outputs": [
    {
     "data": {
      "text/plain": [
       "price                  9200\n",
       "model_year           2008.0\n",
       "model           honda pilot\n",
       "condition         excellent\n",
       "cylinders               5.0\n",
       "fuel                    gas\n",
       "odometer           147191.0\n",
       "transmission      automatic\n",
       "type                    SUV\n",
       "paint_color            blue\n",
       "is_4wd                  1.0\n",
       "date_posted      2019-02-15\n",
       "days_listed              17\n",
       "Name: 9, dtype: object"
      ]
     },
     "execution_count": 30,
     "metadata": {},
     "output_type": "execute_result"
    }
   ],
   "source": [
    "data.iloc[9]"
   ]
  },
  {
   "cell_type": "markdown",
   "metadata": {},
   "source": [
    "Se observa que el reemplazo de valor ausente es correcto, un SUV tiene un cilindraje de 5.0"
   ]
  },
  {
   "cell_type": "code",
   "execution_count": 31,
   "metadata": {},
   "outputs": [
    {
     "name": "stdout",
     "output_type": "stream",
     "text": [
      "<class 'pandas.core.frame.DataFrame'>\n",
      "RangeIndex: 51525 entries, 0 to 51524\n",
      "Data columns (total 13 columns):\n",
      " #   Column        Non-Null Count  Dtype  \n",
      "---  ------        --------------  -----  \n",
      " 0   price         51525 non-null  int64  \n",
      " 1   model_year    51525 non-null  float64\n",
      " 2   model         51525 non-null  object \n",
      " 3   condition     51525 non-null  object \n",
      " 4   cylinders     51525 non-null  float64\n",
      " 5   fuel          51525 non-null  object \n",
      " 6   odometer      43633 non-null  float64\n",
      " 7   transmission  51525 non-null  object \n",
      " 8   type          51525 non-null  object \n",
      " 9   paint_color   42258 non-null  object \n",
      " 10  is_4wd        51525 non-null  float64\n",
      " 11  date_posted   51525 non-null  object \n",
      " 12  days_listed   51525 non-null  int64  \n",
      "dtypes: float64(4), int64(2), object(7)\n",
      "memory usage: 5.1+ MB\n"
     ]
    }
   ],
   "source": [
    "data.info()"
   ]
  },
  {
   "cell_type": "markdown",
   "metadata": {},
   "source": [
    "Se comprueba que no existen más valores ausentes en la columna 'cylinders'"
   ]
  },
  {
   "cell_type": "markdown",
   "metadata": {},
   "source": [
    "### Reemplazar datos ausentes en odometer\n"
   ]
  },
  {
   "cell_type": "markdown",
   "metadata": {},
   "source": [
    "A continuación se evalúa las millas recorridas, basado en el año del modelo del vehículo."
   ]
  },
  {
   "cell_type": "code",
   "execution_count": 32,
   "metadata": {},
   "outputs": [
    {
     "data": {
      "text/plain": [
       "<Axes: >"
      ]
     },
     "execution_count": 32,
     "metadata": {},
     "output_type": "execute_result"
    },
    {
     "data": {
      "image/png": "[encoded data removed]",
      "text/plain": [
       "<Figure size 640x480 with 1 Axes>"
      ]
     },
     "metadata": {},
     "output_type": "display_data"
    }
   ],
   "source": [
    "\n",
    "data.loc[data['odometer'].isna()]['model_year'].sort_values(ascending=True).hist(bins=30, range=(1980,2022))\n"
   ]
  },
  {
   "cell_type": "code",
   "execution_count": 33,
   "metadata": {},
   "outputs": [
    {
     "name": "stdout",
     "output_type": "stream",
     "text": [
      "115553.4617376756\n",
      "113000.0\n"
     ]
    }
   ],
   "source": [
    "#Analizamos los datos generales de odometer\n",
    "print(data['odometer'].mean())\n",
    "print(data['odometer'].median())\n"
   ]
  },
  {
   "cell_type": "code",
   "execution_count": 34,
   "metadata": {},
   "outputs": [
    {
     "name": "stdout",
     "output_type": "stream",
     "text": [
      "Axes(0.125,0.11;0.775x0.77)\n"
     ]
    },
    {
     "data": {
      "text/plain": [
       "(array([-50000.,      0.,  50000., 100000., 150000., 200000., 250000.,\n",
       "        300000., 350000., 400000., 450000.]),\n",
       " [Text(-50000.0, 0, '−50000'),\n",
       "  Text(0.0, 0, '0'),\n",
       "  Text(50000.0, 0, '50000'),\n",
       "  Text(100000.0, 0, '100000'),\n",
       "  Text(150000.0, 0, '150000'),\n",
       "  Text(200000.0, 0, '200000'),\n",
       "  Text(250000.0, 0, '250000'),\n",
       "  Text(300000.0, 0, '300000'),\n",
       "  Text(350000.0, 0, '350000'),\n",
       "  Text(400000.0, 0, '400000'),\n",
       "  Text(450000.0, 0, '450000')])"
      ]
     },
     "execution_count": 34,
     "metadata": {},
     "output_type": "execute_result"
    },
    {
     "data": {
      "image/png": "[encoded data removed]",
      "text/plain": [
       "<Figure size 640x480 with 1 Axes>"
      ]
     },
     "metadata": {},
     "output_type": "display_data"
    }
   ],
   "source": [
    "print(data['odometer'].hist(bins=10, range = (0,400000)))\n",
    "plt.xticks(rotation = 30)"
   ]
  },
  {
   "cell_type": "code",
   "execution_count": 35,
   "metadata": {},
   "outputs": [
    {
     "name": "stdout",
     "output_type": "stream",
     "text": [
      "115553.4617376756\n",
      "113000.0\n",
      "Axes(0.125,0.11;0.775x0.77)\n"
     ]
    },
    {
     "data": {
      "text/plain": [
       "(array([-50000.,      0.,  50000., 100000., 150000., 200000., 250000.,\n",
       "        300000., 350000., 400000., 450000.]),\n",
       " [Text(-50000.0, 0, '−50000'),\n",
       "  Text(0.0, 0, '0'),\n",
       "  Text(50000.0, 0, '50000'),\n",
       "  Text(100000.0, 0, '100000'),\n",
       "  Text(150000.0, 0, '150000'),\n",
       "  Text(200000.0, 0, '200000'),\n",
       "  Text(250000.0, 0, '250000'),\n",
       "  Text(300000.0, 0, '300000'),\n",
       "  Text(350000.0, 0, '350000'),\n",
       "  Text(400000.0, 0, '400000'),\n",
       "  Text(450000.0, 0, '450000')])"
      ]
     },
     "execution_count": 35,
     "metadata": {},
     "output_type": "execute_result"
    },
    {
     "data": {
      "image/png": "[encoded data removed]",
      "text/plain": [
       "<Figure size 640x480 with 1 Axes>"
      ]
     },
     "metadata": {},
     "output_type": "display_data"
    }
   ],
   "source": [
    "print(data['odometer'].mean())\n",
    "print(data['odometer'].median())\n",
    "print(data['odometer'].hist(bins=10, range = (0,400000)))\n",
    "plt.xticks(rotation = 30)"
   ]
  },
  {
   "cell_type": "code",
   "execution_count": 36,
   "metadata": {},
   "outputs": [
    {
     "name": "stdout",
     "output_type": "stream",
     "text": [
      "Axes(0.125,0.11;0.775x0.77)\n"
     ]
    },
    {
     "data": {
      "image/png": "[encoded data removed]",
      "text/plain": [
       "<Figure size 640x480 with 1 Axes>"
      ]
     },
     "metadata": {},
     "output_type": "display_data"
    }
   ],
   "source": [
    "print(data.boxplot('odometer'))\n"
   ]
  },
  {
   "cell_type": "markdown",
   "metadata": {},
   "source": [
    "Podemos observar que los valores de millaje recorrido comprende valores aberrantes a la alta. Lo cual provoca un crecimiento en el valor de la media que se obtenga de todos los datos. Debido a este factor, lo más adecuado para un reemplazo de valores ausentes es utilizar la mediana como medida de tendencia central.A continuación se agrupa segun la condición del automóvil el millaje de los vehículos."
   ]
  },
  {
   "cell_type": "code",
   "execution_count": 37,
   "metadata": {},
   "outputs": [
    {
     "name": "stdout",
     "output_type": "stream",
     "text": [
      "condition\n",
      "excellent    104230.0\n",
      "fair         181613.0\n",
      "good         129000.0\n",
      "like new      72982.5\n",
      "new            8002.0\n",
      "salvage      142673.5\n",
      "Name: odometer, dtype: float64\n"
     ]
    }
   ],
   "source": [
    "#Agrupar usando a mediana de model year \n",
    "odometer_median_grouped = data.groupby('condition')['odometer'].median()\n",
    "print(odometer_median_grouped)"
   ]
  },
  {
   "cell_type": "code",
   "execution_count": 38,
   "metadata": {},
   "outputs": [],
   "source": [
    "#Función para eliminar los datos ausentes de'model_year'\n",
    "def reemplazar_odometer(row):\n",
    "    odometer = row['odometer']\n",
    "    if pd.isna(odometer)==True:\n",
    "        return odometer_median_grouped[row['condition']]\n",
    "    else:\n",
    "        return odometer\n",
    "data['odometer']= data.apply(reemplazar_odometer, axis= 1)"
   ]
  },
  {
   "cell_type": "code",
   "execution_count": 39,
   "metadata": {},
   "outputs": [
    {
     "name": "stdout",
     "output_type": "stream",
     "text": [
      "price                 1500\n",
      "model_year          2003.0\n",
      "model           ford f-150\n",
      "condition             fair\n",
      "cylinders              8.0\n",
      "fuel                   gas\n",
      "odometer          181613.0\n",
      "transmission     automatic\n",
      "type                pickup\n",
      "paint_color            NaN\n",
      "is_4wd                 0.0\n",
      "date_posted     2019-03-22\n",
      "days_listed              9\n",
      "Name: 3, dtype: object\n"
     ]
    }
   ],
   "source": [
    "print(data.iloc[3])"
   ]
  },
  {
   "cell_type": "code",
   "execution_count": 40,
   "metadata": {},
   "outputs": [
    {
     "name": "stdout",
     "output_type": "stream",
     "text": [
      "<class 'pandas.core.frame.DataFrame'>\n",
      "RangeIndex: 51525 entries, 0 to 51524\n",
      "Data columns (total 13 columns):\n",
      " #   Column        Non-Null Count  Dtype  \n",
      "---  ------        --------------  -----  \n",
      " 0   price         51525 non-null  int64  \n",
      " 1   model_year    51525 non-null  float64\n",
      " 2   model         51525 non-null  object \n",
      " 3   condition     51525 non-null  object \n",
      " 4   cylinders     51525 non-null  float64\n",
      " 5   fuel          51525 non-null  object \n",
      " 6   odometer      51525 non-null  float64\n",
      " 7   transmission  51525 non-null  object \n",
      " 8   type          51525 non-null  object \n",
      " 9   paint_color   42258 non-null  object \n",
      " 10  is_4wd        51525 non-null  float64\n",
      " 11  date_posted   51525 non-null  object \n",
      " 12  days_listed   51525 non-null  int64  \n",
      "dtypes: float64(4), int64(2), object(7)\n",
      "memory usage: 5.1+ MB\n"
     ]
    }
   ],
   "source": [
    "data.info()"
   ]
  },
  {
   "cell_type": "markdown",
   "metadata": {},
   "source": [
    "Se comprueba que la columna 'odometer' no contiene datos ausentes."
   ]
  },
  {
   "cell_type": "markdown",
   "metadata": {},
   "source": [
    "### Reemplazar datos ausentes en paint color"
   ]
  },
  {
   "cell_type": "code",
   "execution_count": 41,
   "metadata": {},
   "outputs": [],
   "source": [
    "data['paint_color'] = data['paint_color'].fillna('No conocido')"
   ]
  },
  {
   "cell_type": "code",
   "execution_count": 42,
   "metadata": {},
   "outputs": [
    {
     "name": "stdout",
     "output_type": "stream",
     "text": [
      "price                  9400\n",
      "model_year           2011.0\n",
      "model                bmw x5\n",
      "condition              good\n",
      "cylinders               6.0\n",
      "fuel                    gas\n",
      "odometer           145000.0\n",
      "transmission      automatic\n",
      "type                    SUV\n",
      "paint_color     No conocido\n",
      "is_4wd                  1.0\n",
      "date_posted      2018-06-23\n",
      "days_listed              19\n",
      "Name: 0, dtype: object\n"
     ]
    }
   ],
   "source": [
    "print(data.iloc[0])"
   ]
  },
  {
   "cell_type": "code",
   "execution_count": 43,
   "metadata": {},
   "outputs": [
    {
     "name": "stdout",
     "output_type": "stream",
     "text": [
      "<class 'pandas.core.frame.DataFrame'>\n",
      "RangeIndex: 51525 entries, 0 to 51524\n",
      "Data columns (total 13 columns):\n",
      " #   Column        Non-Null Count  Dtype  \n",
      "---  ------        --------------  -----  \n",
      " 0   price         51525 non-null  int64  \n",
      " 1   model_year    51525 non-null  float64\n",
      " 2   model         51525 non-null  object \n",
      " 3   condition     51525 non-null  object \n",
      " 4   cylinders     51525 non-null  float64\n",
      " 5   fuel          51525 non-null  object \n",
      " 6   odometer      51525 non-null  float64\n",
      " 7   transmission  51525 non-null  object \n",
      " 8   type          51525 non-null  object \n",
      " 9   paint_color   51525 non-null  object \n",
      " 10  is_4wd        51525 non-null  float64\n",
      " 11  date_posted   51525 non-null  object \n",
      " 12  days_listed   51525 non-null  int64  \n",
      "dtypes: float64(4), int64(2), object(7)\n",
      "memory usage: 5.1+ MB\n"
     ]
    }
   ],
   "source": [
    "data.info()"
   ]
  },
  {
   "cell_type": "markdown",
   "metadata": {},
   "source": [
    "Como se observa, hemos eliminado todos los valores ausentes y reemplazados a valores que sean pertinentes para cada caso. "
   ]
  },
  {
   "cell_type": "markdown",
   "metadata": {},
   "source": [
    "## Corregir los tipos de datos"
   ]
  },
  {
   "cell_type": "code",
   "execution_count": 44,
   "metadata": {},
   "outputs": [
    {
     "ename": "ValueError",
     "evalue": "time data \"2018-06-23\" doesn't match format \"%Y.%m.%d\", at position 0. You might want to try:\n    - passing `format` if your strings have a consistent format;\n    - passing `format='ISO8601'` if your strings are all ISO8601 but not necessarily in exactly the same format;\n    - passing `format='mixed'`, and the format will be inferred for each element individually. You might want to use `dayfirst` alongside this.",
     "output_type": "error",
     "traceback": [
      "\u001b[1;31m---------------------------------------------------------------------------\u001b[0m",
      "\u001b[1;31mValueError\u001b[0m                                Traceback (most recent call last)",
      "\u001b[1;32mc:\\Users\\Dome Pin\\Documents\\REPOSITORIO_PROYECTO_4_VEHICULOS\\proyecto_4_vehiculos\\notebooks\\EDA.ipynb Cell 67\u001b[0m line \u001b[0;36m1\n\u001b[1;32m----> <a href='vscode-notebook-cell:/c%3A/Users/Dome%20Pin/Documents/REPOSITORIO_PROYECTO_4_VEHICULOS/proyecto_4_vehiculos/notebooks/EDA.ipynb#Y123sZmlsZQ%3D%3D?line=0'>1</a>\u001b[0m data[\u001b[39m'\u001b[39m\u001b[39mdate_posted\u001b[39m\u001b[39m'\u001b[39m] \u001b[39m=\u001b[39m pd\u001b[39m.\u001b[39;49mto_datetime(data[\u001b[39m'\u001b[39;49m\u001b[39mdate_posted\u001b[39;49m\u001b[39m'\u001b[39;49m],\u001b[39mformat\u001b[39;49m\u001b[39m=\u001b[39;49m\u001b[39m'\u001b[39;49m\u001b[39m%\u001b[39;49m\u001b[39mY.\u001b[39;49m\u001b[39m%\u001b[39;49m\u001b[39mm.\u001b[39;49m\u001b[39m%d\u001b[39;49;00m\u001b[39m'\u001b[39;49m)\n\u001b[0;32m      <a href='vscode-notebook-cell:/c%3A/Users/Dome%20Pin/Documents/REPOSITORIO_PROYECTO_4_VEHICULOS/proyecto_4_vehiculos/notebooks/EDA.ipynb#Y123sZmlsZQ%3D%3D?line=1'>2</a>\u001b[0m data[\u001b[39m'\u001b[39m\u001b[39mcylinders\u001b[39m\u001b[39m'\u001b[39m] \u001b[39m=\u001b[39m data[\u001b[39m'\u001b[39m\u001b[39mcylinders\u001b[39m\u001b[39m'\u001b[39m]\u001b[39m.\u001b[39mastype(\u001b[39m'\u001b[39m\u001b[39mint\u001b[39m\u001b[39m'\u001b[39m)\n\u001b[0;32m      <a href='vscode-notebook-cell:/c%3A/Users/Dome%20Pin/Documents/REPOSITORIO_PROYECTO_4_VEHICULOS/proyecto_4_vehiculos/notebooks/EDA.ipynb#Y123sZmlsZQ%3D%3D?line=2'>3</a>\u001b[0m data[\u001b[39m'\u001b[39m\u001b[39mmodel_year\u001b[39m\u001b[39m'\u001b[39m] \u001b[39m=\u001b[39m data[\u001b[39m'\u001b[39m\u001b[39mmodel_year\u001b[39m\u001b[39m'\u001b[39m]\u001b[39m.\u001b[39mastype(\u001b[39m'\u001b[39m\u001b[39mint\u001b[39m\u001b[39m'\u001b[39m)\n",
      "File \u001b[1;32mc:\\Users\\Dome Pin\\AppData\\Local\\Programs\\Python\\Python39\\lib\\site-packages\\pandas\\core\\tools\\datetimes.py:1108\u001b[0m, in \u001b[0;36mto_datetime\u001b[1;34m(arg, errors, dayfirst, yearfirst, utc, format, exact, unit, infer_datetime_format, origin, cache)\u001b[0m\n\u001b[0;32m   1106\u001b[0m             result \u001b[39m=\u001b[39m arg\u001b[39m.\u001b[39mtz_localize(\u001b[39m\"\u001b[39m\u001b[39mutc\u001b[39m\u001b[39m\"\u001b[39m)\n\u001b[0;32m   1107\u001b[0m \u001b[39melif\u001b[39;00m \u001b[39misinstance\u001b[39m(arg, ABCSeries):\n\u001b[1;32m-> 1108\u001b[0m     cache_array \u001b[39m=\u001b[39m _maybe_cache(arg, \u001b[39mformat\u001b[39;49m, cache, convert_listlike)\n\u001b[0;32m   1109\u001b[0m     \u001b[39mif\u001b[39;00m \u001b[39mnot\u001b[39;00m cache_array\u001b[39m.\u001b[39mempty:\n\u001b[0;32m   1110\u001b[0m         result \u001b[39m=\u001b[39m arg\u001b[39m.\u001b[39mmap(cache_array)\n",
      "File \u001b[1;32mc:\\Users\\Dome Pin\\AppData\\Local\\Programs\\Python\\Python39\\lib\\site-packages\\pandas\\core\\tools\\datetimes.py:254\u001b[0m, in \u001b[0;36m_maybe_cache\u001b[1;34m(arg, format, cache, convert_listlike)\u001b[0m\n\u001b[0;32m    252\u001b[0m unique_dates \u001b[39m=\u001b[39m unique(arg)\n\u001b[0;32m    253\u001b[0m \u001b[39mif\u001b[39;00m \u001b[39mlen\u001b[39m(unique_dates) \u001b[39m<\u001b[39m \u001b[39mlen\u001b[39m(arg):\n\u001b[1;32m--> 254\u001b[0m     cache_dates \u001b[39m=\u001b[39m convert_listlike(unique_dates, \u001b[39mformat\u001b[39;49m)\n\u001b[0;32m    255\u001b[0m     \u001b[39m# GH#45319\u001b[39;00m\n\u001b[0;32m    256\u001b[0m     \u001b[39mtry\u001b[39;00m:\n",
      "File \u001b[1;32mc:\\Users\\Dome Pin\\AppData\\Local\\Programs\\Python\\Python39\\lib\\site-packages\\pandas\\core\\tools\\datetimes.py:488\u001b[0m, in \u001b[0;36m_convert_listlike_datetimes\u001b[1;34m(arg, format, name, utc, unit, errors, dayfirst, yearfirst, exact)\u001b[0m\n\u001b[0;32m    486\u001b[0m \u001b[39m# `format` could be inferred, or user didn't ask for mixed-format parsing.\u001b[39;00m\n\u001b[0;32m    487\u001b[0m \u001b[39mif\u001b[39;00m \u001b[39mformat\u001b[39m \u001b[39mis\u001b[39;00m \u001b[39mnot\u001b[39;00m \u001b[39mNone\u001b[39;00m \u001b[39mand\u001b[39;00m \u001b[39mformat\u001b[39m \u001b[39m!=\u001b[39m \u001b[39m\"\u001b[39m\u001b[39mmixed\u001b[39m\u001b[39m\"\u001b[39m:\n\u001b[1;32m--> 488\u001b[0m     \u001b[39mreturn\u001b[39;00m _array_strptime_with_fallback(arg, name, utc, \u001b[39mformat\u001b[39;49m, exact, errors)\n\u001b[0;32m    490\u001b[0m result, tz_parsed \u001b[39m=\u001b[39m objects_to_datetime64ns(\n\u001b[0;32m    491\u001b[0m     arg,\n\u001b[0;32m    492\u001b[0m     dayfirst\u001b[39m=\u001b[39mdayfirst,\n\u001b[1;32m   (...)\u001b[0m\n\u001b[0;32m    496\u001b[0m     allow_object\u001b[39m=\u001b[39m\u001b[39mTrue\u001b[39;00m,\n\u001b[0;32m    497\u001b[0m )\n\u001b[0;32m    499\u001b[0m \u001b[39mif\u001b[39;00m tz_parsed \u001b[39mis\u001b[39;00m \u001b[39mnot\u001b[39;00m \u001b[39mNone\u001b[39;00m:\n\u001b[0;32m    500\u001b[0m     \u001b[39m# We can take a shortcut since the datetime64 numpy array\u001b[39;00m\n\u001b[0;32m    501\u001b[0m     \u001b[39m# is in UTC\u001b[39;00m\n",
      "File \u001b[1;32mc:\\Users\\Dome Pin\\AppData\\Local\\Programs\\Python\\Python39\\lib\\site-packages\\pandas\\core\\tools\\datetimes.py:519\u001b[0m, in \u001b[0;36m_array_strptime_with_fallback\u001b[1;34m(arg, name, utc, fmt, exact, errors)\u001b[0m\n\u001b[0;32m    508\u001b[0m \u001b[39mdef\u001b[39;00m \u001b[39m_array_strptime_with_fallback\u001b[39m(\n\u001b[0;32m    509\u001b[0m     arg,\n\u001b[0;32m    510\u001b[0m     name,\n\u001b[1;32m   (...)\u001b[0m\n\u001b[0;32m    514\u001b[0m     errors: \u001b[39mstr\u001b[39m,\n\u001b[0;32m    515\u001b[0m ) \u001b[39m-\u001b[39m\u001b[39m>\u001b[39m Index:\n\u001b[0;32m    516\u001b[0m \u001b[39m    \u001b[39m\u001b[39m\"\"\"\u001b[39;00m\n\u001b[0;32m    517\u001b[0m \u001b[39m    Call array_strptime, with fallback behavior depending on 'errors'.\u001b[39;00m\n\u001b[0;32m    518\u001b[0m \u001b[39m    \"\"\"\u001b[39;00m\n\u001b[1;32m--> 519\u001b[0m     result, timezones \u001b[39m=\u001b[39m array_strptime(arg, fmt, exact\u001b[39m=\u001b[39;49mexact, errors\u001b[39m=\u001b[39;49merrors, utc\u001b[39m=\u001b[39;49mutc)\n\u001b[0;32m    520\u001b[0m     \u001b[39mif\u001b[39;00m \u001b[39many\u001b[39m(tz \u001b[39mis\u001b[39;00m \u001b[39mnot\u001b[39;00m \u001b[39mNone\u001b[39;00m \u001b[39mfor\u001b[39;00m tz \u001b[39min\u001b[39;00m timezones):\n\u001b[0;32m    521\u001b[0m         \u001b[39mreturn\u001b[39;00m _return_parsed_timezone_results(result, timezones, utc, name)\n",
      "File \u001b[1;32mstrptime.pyx:534\u001b[0m, in \u001b[0;36mpandas._libs.tslibs.strptime.array_strptime\u001b[1;34m()\u001b[0m\n",
      "File \u001b[1;32mstrptime.pyx:355\u001b[0m, in \u001b[0;36mpandas._libs.tslibs.strptime.array_strptime\u001b[1;34m()\u001b[0m\n",
      "\u001b[1;31mValueError\u001b[0m: time data \"2018-06-23\" doesn't match format \"%Y.%m.%d\", at position 0. You might want to try:\n    - passing `format` if your strings have a consistent format;\n    - passing `format='ISO8601'` if your strings are all ISO8601 but not necessarily in exactly the same format;\n    - passing `format='mixed'`, and the format will be inferred for each element individually. You might want to use `dayfirst` alongside this."
     ]
    }
   ],
   "source": [
    "data['date_posted'] = pd.to_datetime(data['date_posted'],format='%Y.%m.%d')\n",
    "data['cylinders'] = data['cylinders'].astype('int')\n",
    "data['model_year'] = data['model_year'].astype('int')\n",
    "data['paint_color'].astype('str')\n",
    "\n",
    "data.info()"
   ]
  },
  {
   "cell_type": "markdown",
   "metadata": {},
   "source": [
    "Se transformó correctamente los tipos de datos según corresponde. La fecha de publicación paso de ser un tipo de dato objeto a fecha, el cilindraje ahora es un número entero, el año del modelo pasó a ser entero, y el color de pintura un tipo de dato str.  \n"
   ]
  },
  {
   "cell_type": "markdown",
   "metadata": {},
   "source": [
    "## Enriquecer datos"
   ]
  },
  {
   "cell_type": "markdown",
   "metadata": {},
   "source": [
    "A continuación se añade datos adicionales a la tabla para facilitar el análisis. "
   ]
  },
  {
   "cell_type": "code",
   "execution_count": null,
   "metadata": {},
   "outputs": [],
   "source": [
    "# Agrega valores de fecha y hora para cuando se colocó el anuncio\n",
    "data['hour_posted'] = data['date_posted'].dt.hour\n"
   ]
  },
  {
   "cell_type": "code",
   "execution_count": null,
   "metadata": {},
   "outputs": [],
   "source": [
    "# Agrega los años del vehículo cuando el anuncio se colocó\n",
    "\n",
    "data['year_posted'] = data['date_posted'].dt.year"
   ]
  },
  {
   "cell_type": "code",
   "execution_count": null,
   "metadata": {},
   "outputs": [],
   "source": [
    "# Agrega el millaje promedio del vehículo por año\n",
    "\n",
    "data['edad_vehículo'] = (data['year_posted']-data['model_year'])\n",
    "data['millaje_promedio']=data['odometer']/data['edad_vehículo']\n",
    "data['millaje_promedio'] = data['millaje_promedio'].fillna(data['odometer'])\n",
    "data.head(3)"
   ]
  },
  {
   "cell_type": "code",
   "execution_count": null,
   "metadata": {},
   "outputs": [],
   "source": [
    "data['condition'].unique()"
   ]
  },
  {
   "cell_type": "code",
   "execution_count": null,
   "metadata": {},
   "outputs": [],
   "source": [
    "# Podría ser útil reemplazar los valores de condición con algo que se pueda manipular más fácilmente\n",
    "data['condition'].replace('salvage','0',inplace=True)\n",
    "data['condition'].replace('fair','1',inplace=True)\n",
    "data['condition'].replace('good','2',inplace=True)\n",
    "data['condition'].replace('excellent','3',inplace=True)\n",
    "data['condition'].replace('like new','4',inplace=True)\n",
    "data['condition'].replace('new','5',inplace=True)\n",
    "\n",
    "\n",
    "\n",
    "data['condition'] = data['condition'].astype('int')"
   ]
  },
  {
   "cell_type": "code",
   "execution_count": null,
   "metadata": {},
   "outputs": [],
   "source": [
    "data.head(3)"
   ]
  },
  {
   "cell_type": "markdown",
   "metadata": {},
   "source": [
    "En esta sección se transforma los datos según el tipo apropiado para la facilidad y buen procesamiento de los datos. Adicionalmente se convierte la varible categorica condición a numérica para facilidad de análisis en las próximas secciones."
   ]
  },
  {
   "cell_type": "markdown",
   "metadata": {},
   "source": [
    "## Comprobar datos limpios"
   ]
  },
  {
   "cell_type": "code",
   "execution_count": null,
   "metadata": {
    "scrolled": true
   },
   "outputs": [],
   "source": [
    "# imprime la información general/resumida sobre el DataFrame\n",
    "data.info()\n"
   ]
  },
  {
   "cell_type": "code",
   "execution_count": null,
   "metadata": {},
   "outputs": [],
   "source": [
    "# imprimir una muestra de datos\n",
    "\n",
    "data.head(5)"
   ]
  },
  {
   "cell_type": "markdown",
   "metadata": {},
   "source": [
    "## Estudiar parámetros principales\n",
    "\n",
    "Se elige un enfoque apropiado para estudiar los parámetros enumerados a continuación:\n",
    "\n",
    "Los parámetros son:\n",
    "- Precio\n",
    "- Los años del vehículo cuando el anuncio se colocó\n",
    "- Millaje\n",
    "- Número de cilindros\n",
    "- Estado"
   ]
  },
  {
   "cell_type": "markdown",
   "metadata": {},
   "source": [
    "Se realizará una función que facilite el análisis de cada parámetro."
   ]
  },
  {
   "cell_type": "code",
   "execution_count": null,
   "metadata": {},
   "outputs": [],
   "source": [
    "#\n",
    "parameters = ['price', 'edad_vehículo', 'odometer', 'cylinders', 'condition']\n",
    "def analisis(parameter):\n",
    "    print(data[parameter].describe())\n",
    "    print()\n",
    "    print(data[parameter].plot(kind='hist', bins = 100, figsize = (15,5), title= parameter))\n",
    "    \n",
    "\n"
   ]
  },
  {
   "cell_type": "code",
   "execution_count": null,
   "metadata": {},
   "outputs": [],
   "source": [
    "#\n",
    "print(analisis('price'))\n"
   ]
  },
  {
   "cell_type": "code",
   "execution_count": null,
   "metadata": {},
   "outputs": [],
   "source": [
    "#\n",
    "\n",
    "print(analisis('edad_vehículo'))"
   ]
  },
  {
   "cell_type": "code",
   "execution_count": null,
   "metadata": {},
   "outputs": [],
   "source": [
    "#\n",
    "print(analisis('odometer'))\n",
    "\n"
   ]
  },
  {
   "cell_type": "code",
   "execution_count": null,
   "metadata": {},
   "outputs": [],
   "source": [
    "#\n",
    "\n",
    "print(analisis('cylinders'))"
   ]
  },
  {
   "cell_type": "markdown",
   "metadata": {},
   "source": [
    "En esta sección se observa la automatización de los histogramas mediante la definción de una función, y se visualiza alta dispersión de los datos. Siendo así se evalua en la siguiente sección aquellos datos atípicos o también llamados datos aberrantes. "
   ]
  },
  {
   "cell_type": "markdown",
   "metadata": {},
   "source": [
    "## Estudiar y tratar valores atípicos\n",
    "\n",
    "Se determina qué columnas pueden contener valores atípicos y se crea un DataFrame sin esos valores atípicos. "
   ]
  },
  {
   "cell_type": "code",
   "execution_count": null,
   "metadata": {},
   "outputs": [],
   "source": [
    "# Determina los límites inferiores para valores atípicos\n",
    "\n",
    "def limites(parameter):\n",
    "    q1 = data[parameter].quantile(0.25)\n",
    "    q3 = data[parameter].quantile(0.75)\n",
    "    iqr = q3 - q1\n",
    "    ls = q3 + 1.5 * iqr\n",
    "    li = q1 - 1.5 * iqr\n",
    "    limites = (li, ls)\n",
    "    data.boxplot(parameter)\n",
    "    return limites\n",
    "    "
   ]
  },
  {
   "cell_type": "code",
   "execution_count": null,
   "metadata": {},
   "outputs": [],
   "source": [
    "# Determinar los límites superiores para valores atípicos\n",
    "\n",
    "print(limites('price'))\n",
    "plt.ylim = (-100, 400000)\n",
    "plt.hlines (y = 34597 , xmin = 0.9, xmax=1.1 , color='red')\n"
   ]
  },
  {
   "cell_type": "code",
   "execution_count": null,
   "metadata": {},
   "outputs": [],
   "source": [
    "# Almacena los datos sin valores atípicos en un DataFrame separado\n",
    "\n",
    "print(limites('edad_vehículo'))\n",
    "\n",
    "plt.hlines (y = 24 , xmin = 0.9, xmax=1.1 , color='red')\n",
    "\n"
   ]
  },
  {
   "cell_type": "code",
   "execution_count": null,
   "metadata": {},
   "outputs": [],
   "source": [
    "\n",
    "print(limites('odometer'))\n",
    "\n",
    "plt.hlines (y = 256050 , xmin = 0.9, xmax=1.1 , color='red')\n"
   ]
  },
  {
   "cell_type": "markdown",
   "metadata": {},
   "source": [
    "Se observa que la variable precio, odometer y edad del vehículo cuentan con valores atípicos que se encuentran fuera de la caja de bigotes. Con un línea roja se detalla el punto crítico desde donde empiezan los valores aberrantes de los datos. "
   ]
  },
  {
   "cell_type": "markdown",
   "metadata": {},
   "source": [
    "## Estudiar parámetros principales sin valores atípicos"
   ]
  },
  {
   "cell_type": "markdown",
   "metadata": {},
   "source": [
    "Se utiliza los datos filtrados para crear nuevos histogramas. Se compara con los histogramas anteriores (aquellos con los valores atípicos incluidos). De allí se obtendrá interesantes conclusiones. "
   ]
  },
  {
   "cell_type": "code",
   "execution_count": null,
   "metadata": {},
   "outputs": [],
   "source": [
    "data_sin_atipicos = data.loc[(data['price']<34597) & (data['odometer']<256050) & (data['edad_vehículo']<24) ]"
   ]
  },
  {
   "cell_type": "code",
   "execution_count": null,
   "metadata": {},
   "outputs": [],
   "source": [
    "data_sin_atipicos.info()"
   ]
  },
  {
   "cell_type": "code",
   "execution_count": null,
   "metadata": {},
   "outputs": [],
   "source": [
    "parameters = ['price', 'edad_vehículo', 'odometer', 'cylinders', 'condition']\n",
    "def analisis2(parameter):\n",
    "    print (data_sin_atipicos[parameter].describe())\n",
    "    print()\n",
    "    print (data_sin_atipicos[parameter].plot(kind='hist', bins = 100, figsize = (15,5), title = parameter))"
   ]
  },
  {
   "cell_type": "code",
   "execution_count": null,
   "metadata": {},
   "outputs": [],
   "source": [
    "analisis('price')\n",
    "plt.xlim(0,55000)"
   ]
  },
  {
   "cell_type": "code",
   "execution_count": null,
   "metadata": {},
   "outputs": [],
   "source": [
    "analisis2('price')\n",
    "plt.xlim(0,55000)"
   ]
  },
  {
   "cell_type": "code",
   "execution_count": null,
   "metadata": {},
   "outputs": [],
   "source": [
    "analisis('odometer')\n",
    "plt.xlim(0,990000)"
   ]
  },
  {
   "cell_type": "code",
   "execution_count": null,
   "metadata": {},
   "outputs": [],
   "source": [
    "analisis2('odometer')\n",
    "plt.xlim(0,990000)"
   ]
  },
  {
   "cell_type": "code",
   "execution_count": null,
   "metadata": {},
   "outputs": [],
   "source": [
    "analisis('edad_vehículo')\n",
    "plt.xlim(0,110)"
   ]
  },
  {
   "cell_type": "code",
   "execution_count": null,
   "metadata": {},
   "outputs": [],
   "source": [
    "analisis2('edad_vehículo')\n",
    "plt.xlim(0,110)"
   ]
  },
  {
   "cell_type": "markdown",
   "metadata": {},
   "source": [
    "En las distintas gráficas presentadas en esta sección se visualiza como la dispesión de los datos disminuye, así como la frecuencia de las mismas. "
   ]
  },
  {
   "cell_type": "markdown",
   "metadata": {},
   "source": [
    "## Periodo de colocación de los anuncios\n",
    "A continuación: \n",
    "Se estudia cuántos días los anuncios fueron mostrados (`days_listed`). \n",
    "Se Calcula la media y la mediana de (`days_listed`). \n",
    "Se Describe el periodo de colocación habitual de un anuncio.\n",
    "Se determina cuándo se eliminaron rápidamente los anuncios y cuándo son publicados por un tiempo anormalmente largo."
   ]
  },
  {
   "cell_type": "code",
   "execution_count": null,
   "metadata": {},
   "outputs": [],
   "source": [
    "data.describe()"
   ]
  },
  {
   "cell_type": "markdown",
   "metadata": {},
   "source": [
    "Se clasificará los 'days_listed' en tres grupos. Aquellos anuncios que se eliminaron rapidamente a aquellos que fueron publicados menos de 5 días, los anuncios intermedios entre 5 y 100 días, y los anuncios que permanecieron más de 100 días son aquellos que estuvieron un tiempo anormalmente largo y son aquellos datos atípicos o aberrantes. "
   ]
  },
  {
   "cell_type": "code",
   "execution_count": null,
   "metadata": {},
   "outputs": [],
   "source": [
    "def fix_days_listed(row):\n",
    "    if row <=5:\n",
    "        return 'Menos de 5 días'\n",
    "    elif row <=100:\n",
    "        return 'Entre 5 y 100 dias'\n",
    "    else:\n",
    "        return 'Mayor a 100 dias'"
   ]
  },
  {
   "cell_type": "code",
   "execution_count": null,
   "metadata": {},
   "outputs": [],
   "source": [
    "data['analisis_dias_public'] = data['days_listed'].apply(fix_days_listed)"
   ]
  },
  {
   "cell_type": "code",
   "execution_count": null,
   "metadata": {},
   "outputs": [],
   "source": [
    "data.info()"
   ]
  },
  {
   "cell_type": "code",
   "execution_count": null,
   "metadata": {},
   "outputs": [],
   "source": [
    "data.tail(5)"
   ]
  },
  {
   "cell_type": "code",
   "execution_count": null,
   "metadata": {},
   "outputs": [],
   "source": [
    "data.groupby('analisis_dias_public')['price'].describe()"
   ]
  },
  {
   "cell_type": "code",
   "execution_count": null,
   "metadata": {},
   "outputs": [],
   "source": [
    "data.groupby('analisis_dias_public')['condition'].describe()"
   ]
  },
  {
   "cell_type": "code",
   "execution_count": null,
   "metadata": {},
   "outputs": [],
   "source": [
    "data.groupby('analisis_dias_public')['odometer'].describe()"
   ]
  },
  {
   "cell_type": "code",
   "execution_count": null,
   "metadata": {},
   "outputs": [],
   "source": [
    "data.groupby('analisis_dias_public')['year_posted'].describe()"
   ]
  },
  {
   "cell_type": "code",
   "execution_count": null,
   "metadata": {},
   "outputs": [],
   "source": [
    "data.groupby('analisis_dias_public')['edad_vehículo'].describe()"
   ]
  },
  {
   "cell_type": "code",
   "execution_count": null,
   "metadata": {},
   "outputs": [],
   "source": [
    "sns.catplot(data=data, x=\"analisis_dias_public\", y=\"edad_vehículo\", kind=\"box\")"
   ]
  },
  {
   "cell_type": "code",
   "execution_count": null,
   "metadata": {},
   "outputs": [],
   "source": [
    "sns.catplot(data=data, x=\"analisis_dias_public\", y=\"odometer\", kind=\"box\")"
   ]
  },
  {
   "cell_type": "code",
   "execution_count": null,
   "metadata": {},
   "outputs": [],
   "source": [
    "sns.catplot(data=data, x=\"analisis_dias_public\", y=\"price\", kind=\"box\")"
   ]
  },
  {
   "cell_type": "code",
   "execution_count": null,
   "metadata": {},
   "outputs": [],
   "source": [
    "sns.catplot(data=data, x=\"analisis_dias_public\", y=\"cylinders\", kind=\"box\")"
   ]
  },
  {
   "cell_type": "markdown",
   "metadata": {},
   "source": [
    "Se observa que no existe diferencia significativa (precio, millaje, edad del vehículo, cilindraje) entre los vehículos que son vendidos en menos de 5 días, entre 5 y 100 días y aquellos que pasan un tiempo anormalmente largo (más de 100 días). \n"
   ]
  },
  {
   "cell_type": "markdown",
   "metadata": {},
   "source": [
    "## Precio promedio por cada tipo de vehículo"
   ]
  },
  {
   "cell_type": "markdown",
   "metadata": {},
   "source": [
    "A continuación:\n",
    "Se analiza el número de anuncios y el precio promedio para cada tipo de vehículo. \n",
    "Se traza un gráfico mostrando la dependencia de la cantidad de anuncios en cada tipo de vehículo.\n",
    "Se Selecciona los dos tipos con un mayor número de anuncios.\n"
   ]
  },
  {
   "cell_type": "code",
   "execution_count": null,
   "metadata": {},
   "outputs": [],
   "source": [
    "data_group = data.groupby('type').agg({'price': ['count','mean']})\n"
   ]
  },
  {
   "cell_type": "code",
   "execution_count": null,
   "metadata": {},
   "outputs": [],
   "source": [
    "data_group"
   ]
  },
  {
   "cell_type": "code",
   "execution_count": null,
   "metadata": {},
   "outputs": [],
   "source": [
    "data_group.describe()"
   ]
  },
  {
   "cell_type": "code",
   "execution_count": null,
   "metadata": {},
   "outputs": [],
   "source": [
    "data_group.info()"
   ]
  },
  {
   "cell_type": "code",
   "execution_count": null,
   "metadata": {},
   "outputs": [],
   "source": [
    "data_group.corr()"
   ]
  },
  {
   "cell_type": "code",
   "execution_count": null,
   "metadata": {},
   "outputs": [],
   "source": [
    "pd.plotting.scatter_matrix(data_group, figsize=(9,9))"
   ]
  },
  {
   "cell_type": "markdown",
   "metadata": {},
   "source": [
    "La relación entre el precio promedio del vehículo y la cantidad de anuncios es muy baja."
   ]
  },
  {
   "cell_type": "code",
   "execution_count": null,
   "metadata": {},
   "outputs": [],
   "source": [
    "data['cylinders'].value_counts().plot(kind='bar')"
   ]
  },
  {
   "cell_type": "code",
   "execution_count": null,
   "metadata": {},
   "outputs": [],
   "source": [
    "data['condition'].value_counts().plot(kind='bar')"
   ]
  },
  {
   "cell_type": "code",
   "execution_count": null,
   "metadata": {},
   "outputs": [],
   "source": [
    "data['days_listed'].value_counts().plot(kind='bar')"
   ]
  },
  {
   "cell_type": "code",
   "execution_count": null,
   "metadata": {},
   "outputs": [],
   "source": [
    "data['transmission'].value_counts().plot(kind='bar')"
   ]
  },
  {
   "cell_type": "code",
   "execution_count": null,
   "metadata": {},
   "outputs": [],
   "source": [
    "data['paint_color'].value_counts().plot(kind='bar')"
   ]
  },
  {
   "cell_type": "markdown",
   "metadata": {},
   "source": [
    "Los dos tipos de vehículo con mayor cantidad de publicaciones de venta son los SUV y los Truck."
   ]
  },
  {
   "cell_type": "markdown",
   "metadata": {},
   "source": [
    "## Factores de precio"
   ]
  },
  {
   "cell_type": "markdown",
   "metadata": {},
   "source": [
    "A continuación:\n",
    "Se analizar que factores impactan más sobre el precio.\n",
    "Se toma en consideración las variables más populares detectadad. Se estudia si el precio depende de la edad, millaje, condición, tipo de transmisión y color. Para las variables categóricas (tipo de transmisión y color) se traza gráficos de caja y bigotes y se crea gráficos de dispersión para el resto. "
   ]
  },
  {
   "cell_type": "code",
   "execution_count": null,
   "metadata": {},
   "outputs": [],
   "source": [
    "#Analisis para vehículos tipo SUV data_sin_atipicos"
   ]
  },
  {
   "cell_type": "code",
   "execution_count": null,
   "metadata": {},
   "outputs": [],
   "source": [
    "vehiculossuv= data_sin_atipicos[data_sin_atipicos['type']=='SUV']"
   ]
  },
  {
   "cell_type": "code",
   "execution_count": null,
   "metadata": {},
   "outputs": [],
   "source": [
    "vehiculossuv.describe()"
   ]
  },
  {
   "cell_type": "code",
   "execution_count": null,
   "metadata": {},
   "outputs": [],
   "source": [
    "vehiculossuv.head(5)"
   ]
  },
  {
   "cell_type": "code",
   "execution_count": null,
   "metadata": {},
   "outputs": [],
   "source": [
    "data2 = vehiculossuv.drop(['model_year','fuel','model','cylinders', 'is_4wd', 'date_posted', 'days_listed', 'hour_posted', 'year_posted','millaje_promedio'], axis=1)"
   ]
  },
  {
   "cell_type": "code",
   "execution_count": null,
   "metadata": {},
   "outputs": [],
   "source": [
    "data2.head(5)"
   ]
  },
  {
   "cell_type": "code",
   "execution_count": null,
   "metadata": {},
   "outputs": [],
   "source": [
    "data2.corr()"
   ]
  },
  {
   "cell_type": "code",
   "execution_count": null,
   "metadata": {},
   "outputs": [],
   "source": [
    "pd.plotting.scatter_matrix(data2, figsize=(9,9))"
   ]
  },
  {
   "cell_type": "markdown",
   "metadata": {},
   "source": [
    "Considerar que el coeficiente de correlación al ser positivo y cercano a 1 indica que existe una fuerte correlación positiva entre las dos variables de estudio, si el valor es cercano a 0 significa que no existe correlación entre las dos variables y si el valor es cercano a -1 entonces la correlación es negativamente fuerte. Una correlación no significa que dichas variables sean causa y efecto.  "
   ]
  },
  {
   "cell_type": "code",
   "execution_count": null,
   "metadata": {},
   "outputs": [],
   "source": [
    "\n",
    "sns.catplot(data=data2, x=\"transmission\", y=\"price\", kind=\"box\")\n"
   ]
  },
  {
   "cell_type": "code",
   "execution_count": null,
   "metadata": {},
   "outputs": [],
   "source": [
    "sns.catplot(data=data2, x=\"paint_color\", y=\"price\", kind=\"box\")\n",
    "plt.xticks(rotation = 90)"
   ]
  },
  {
   "cell_type": "code",
   "execution_count": null,
   "metadata": {},
   "outputs": [],
   "source": [
    "#Analisis para vehículos tipo TRUCK"
   ]
  },
  {
   "cell_type": "code",
   "execution_count": null,
   "metadata": {},
   "outputs": [],
   "source": [
    "vehiculostruck= data_sin_atipicos[data_sin_atipicos['type']=='truck']"
   ]
  },
  {
   "cell_type": "code",
   "execution_count": null,
   "metadata": {},
   "outputs": [],
   "source": [
    "vehiculostruck.describe()"
   ]
  },
  {
   "cell_type": "code",
   "execution_count": null,
   "metadata": {},
   "outputs": [],
   "source": [
    "data3 = vehiculostruck.drop(['model_year','fuel','model','cylinders', 'is_4wd', 'date_posted', 'days_listed', 'hour_posted', 'year_posted','millaje_promedio'], axis=1)"
   ]
  },
  {
   "cell_type": "code",
   "execution_count": null,
   "metadata": {},
   "outputs": [],
   "source": [
    "data3.head(5)"
   ]
  },
  {
   "cell_type": "code",
   "execution_count": null,
   "metadata": {},
   "outputs": [],
   "source": [
    "data3.corr()"
   ]
  },
  {
   "cell_type": "code",
   "execution_count": null,
   "metadata": {},
   "outputs": [],
   "source": [
    "pd.plotting.scatter_matrix(data3, figsize=(9,9))"
   ]
  },
  {
   "cell_type": "code",
   "execution_count": null,
   "metadata": {},
   "outputs": [],
   "source": [
    "\n",
    "sns.catplot(data=data3, x=\"transmission\", y=\"price\", kind=\"box\")"
   ]
  },
  {
   "cell_type": "code",
   "execution_count": null,
   "metadata": {},
   "outputs": [],
   "source": [
    "sns.catplot(data=data3, x=\"paint_color\", y=\"price\", kind=\"box\")\n",
    "plt.xticks(rotation = 90)"
   ]
  },
  {
   "cell_type": "markdown",
   "metadata": {},
   "source": [
    "*El precio promedio de un vehículo tipo SUV es de 10475 dólares y el precio de los vehículos tipo Truck es  15189 dólares. \n",
    "\n",
    "*Se puede concluir: <br>\n",
    "    a mayor condición del vehículo, mayor es el precio del mismo. <br>\n",
    "    a mayor millaje recorrido por el vehículo, menor es el precio del mismo <br>\n",
    "    a mayor edad del vehículo, menor es el precio del mismo. <br>     \n",
    "*Es importante mencionar que esta conclusión no se refiere a causa - efecto, sino un comportamiento entre las variables.  <br>\n",
    "*Se comparó la correlación tanto para los datos de los vehículos tipo SUV y los vehículos tipo Truck.<br>\n",
    "*Al comparar la influencia de la transmisión sobre el precio. Podemos observar que el precio promedio de un truck con <br>\n",
    "transmisión automática es mayor a un vehículo SUV automático. <br>\n",
    "*El precio promedio de un vehículo truck con transmisión manual es menor a un vehículo SUV manual. Es decir que el precio puede verse influenciado tanto por el tipo de vehículo y el tipo de transmisión. <br>\n",
    "*El precio de los vehículos color 'orange', 'purple' y 'yellow' tienden variar a diferencia de los otros tipos de colores de pintura que mantienen una relación de precios similares al pertencer a la misma categoría de tipo de vehículo. "
   ]
  },
  {
   "cell_type": "markdown",
   "metadata": {},
   "source": [
    "## Conclusión general\n"
   ]
  },
  {
   "cell_type": "markdown",
   "metadata": {},
   "source": [
    "En este proyecto se visualiza aspectos importantes como la manipulación de datos, procesamiento de datos, reemplazo de valores ausentes, detección de valores atípicos y encontrar patrones de correlación de aquellas variables que influencian en el precio final de un vehículo. <br>\n",
    "Se concluye que: <br>\n",
    "1. El precio de un vehículo está mayormente influenciado por: edad del vehículo, el tipo de vehículo y la transmisión<br>\n",
    "2. El modelo de vehículo más anunciado es: Ford F-150\n",
    "3. La mayoría de los vehículos tienen una condición: excelente (3)\n",
    "4. La mayor parte de los vehículos cuentan con un cilindraje de: 6 cilindros\n",
    "5. La mayor parte de los vehículos permanecen publicados en internet durante:  39.5 días \n",
    "6. La mayoría de los vehículos son de transmisión: automático\n",
    "7. La mayor parte de los vehículos son de color: white\n",
    "8. La mayor parte de los vehículos son de tipo: SUV\n",
    "\n",
    "\n",
    "\n",
    "\n",
    "\n",
    "\n"
   ]
  }
 ],
 "metadata": {
  "ExecuteTimeLog": [
   {
    "duration": 828,
    "start_time": "2021-11-16T09:21:11.304Z"
   },
   {
    "duration": 893,
    "start_time": "2021-11-16T09:21:17.728Z"
   },
   {
    "duration": 1150,
    "start_time": "2021-11-16T09:21:29.568Z"
   },
   {
    "duration": 3,
    "start_time": "2021-11-16T09:24:14.495Z"
   },
   {
    "duration": 120,
    "start_time": "2021-11-16T09:24:46.630Z"
   },
   {
    "duration": 3,
    "start_time": "2021-11-16T09:28:27.882Z"
   },
   {
    "duration": 4,
    "start_time": "2021-11-16T09:29:54.281Z"
   },
   {
    "duration": 3,
    "start_time": "2021-11-16T09:30:45.936Z"
   },
   {
    "duration": 4,
    "start_time": "2021-11-16T09:31:06.300Z"
   },
   {
    "duration": 113,
    "start_time": "2021-11-16T09:31:37.208Z"
   },
   {
    "duration": 143,
    "start_time": "2021-11-16T09:31:48.656Z"
   },
   {
    "duration": 98,
    "start_time": "2021-11-16T09:31:55.678Z"
   },
   {
    "duration": 3,
    "start_time": "2021-11-16T09:32:08.535Z"
   },
   {
    "duration": 111,
    "start_time": "2021-11-16T09:32:10.120Z"
   },
   {
    "duration": 3,
    "start_time": "2021-11-16T09:32:15.732Z"
   },
   {
    "duration": 4,
    "start_time": "2021-11-16T09:32:29.423Z"
   },
   {
    "duration": 3,
    "start_time": "2021-11-16T10:03:03.074Z"
   },
   {
    "duration": 3,
    "start_time": "2021-11-16T10:10:01.288Z"
   },
   {
    "duration": 3,
    "start_time": "2021-11-16T10:10:46.923Z"
   },
   {
    "duration": 121,
    "start_time": "2021-11-16T10:37:46.494Z"
   },
   {
    "duration": 125,
    "start_time": "2021-11-16T10:38:20.632Z"
   },
   {
    "duration": 112,
    "start_time": "2021-11-16T10:46:53.001Z"
   },
   {
    "duration": 110,
    "start_time": "2021-11-16T10:48:25.775Z"
   },
   {
    "duration": 3,
    "start_time": "2021-11-16T10:50:18.720Z"
   },
   {
    "duration": 4,
    "start_time": "2021-11-16T10:50:37.649Z"
   },
   {
    "duration": 2,
    "start_time": "2021-11-16T10:50:51.884Z"
   },
   {
    "duration": 3,
    "start_time": "2021-11-16T10:51:56.237Z"
   },
   {
    "duration": 101,
    "start_time": "2021-11-16T10:53:13.791Z"
   },
   {
    "duration": 3,
    "start_time": "2021-11-16T10:55:59.186Z"
   },
   {
    "duration": 3,
    "start_time": "2021-11-16T10:56:10.751Z"
   },
   {
    "duration": 3,
    "start_time": "2021-11-16T10:56:49.038Z"
   },
   {
    "duration": 3,
    "start_time": "2021-11-16T10:56:49.174Z"
   },
   {
    "duration": 4,
    "start_time": "2021-11-16T10:56:49.414Z"
   },
   {
    "duration": 3,
    "start_time": "2021-11-16T10:56:49.680Z"
   },
   {
    "duration": 3,
    "start_time": "2021-11-16T10:56:50.370Z"
   },
   {
    "duration": 114,
    "start_time": "2021-11-16T10:59:34.518Z"
   },
   {
    "duration": 3,
    "start_time": "2021-11-16T11:01:41.201Z"
   },
   {
    "duration": 116,
    "start_time": "2021-11-16T11:01:48.754Z"
   },
   {
    "duration": 3,
    "start_time": "2021-11-16T11:02:16.685Z"
   },
   {
    "duration": 3,
    "start_time": "2021-11-16T11:02:19.479Z"
   },
   {
    "duration": 3,
    "start_time": "2021-11-16T11:02:47.067Z"
   },
   {
    "duration": 3,
    "start_time": "2021-11-16T11:02:49.353Z"
   },
   {
    "duration": 3,
    "start_time": "2021-11-16T11:03:07.835Z"
   },
   {
    "duration": 3,
    "start_time": "2021-11-16T11:03:07.953Z"
   },
   {
    "duration": 112,
    "start_time": "2021-11-16T11:07:52.072Z"
   },
   {
    "duration": 187,
    "start_time": "2021-11-16T11:09:23.468Z"
   },
   {
    "duration": 4,
    "start_time": "2021-11-16T11:10:01.455Z"
   },
   {
    "duration": 3,
    "start_time": "2021-11-16T11:10:05.069Z"
   },
   {
    "duration": 4,
    "start_time": "2021-11-16T11:10:13.376Z"
   },
   {
    "duration": 3,
    "start_time": "2021-11-16T11:10:14.434Z"
   },
   {
    "duration": 3,
    "start_time": "2021-11-16T11:10:22.853Z"
   },
   {
    "duration": 4,
    "start_time": "2021-11-16T11:27:29.279Z"
   },
   {
    "duration": 4,
    "start_time": "2021-11-16T11:29:08.919Z"
   },
   {
    "duration": 118,
    "start_time": "2021-11-16T11:29:46.703Z"
   },
   {
    "duration": 437,
    "start_time": "2021-11-16T11:36:02.181Z"
   },
   {
    "duration": 157,
    "start_time": "2021-11-16T11:36:14.388Z"
   },
   {
    "duration": 207,
    "start_time": "2021-11-16T11:47:15.898Z"
   },
   {
    "duration": 3,
    "start_time": "2021-11-16T11:53:52.092Z"
   },
   {
    "duration": 3,
    "start_time": "2021-11-16T11:53:52.236Z"
   },
   {
    "duration": 3,
    "start_time": "2021-11-16T11:59:12.005Z"
   },
   {
    "duration": 112,
    "start_time": "2021-11-16T12:00:33.446Z"
   },
   {
    "duration": 3,
    "start_time": "2021-11-16T12:02:14.453Z"
   },
   {
    "duration": 3,
    "start_time": "2021-11-16T12:02:39.512Z"
   },
   {
    "duration": 106,
    "start_time": "2021-11-16T12:03:03.460Z"
   }
  ],
  "kernelspec": {
   "display_name": "Python 3 (ipykernel)",
   "language": "python",
   "name": "python3"
  },
  "language_info": {
   "codemirror_mode": {
    "name": "ipython",
    "version": 3
   },
   "file_extension": ".py",
   "mimetype": "text/x-python",
   "name": "python",
   "nbconvert_exporter": "python",
   "pygments_lexer": "ipython3",
   "version": "3.9.1"
  },
  "toc": {
   "base_numbering": 1,
   "nav_menu": {},
   "number_sections": true,
   "sideBar": true,
   "skip_h1_title": false,
   "title_cell": "Table of Contents",
   "title_sidebar": "Contents",
   "toc_cell": true,
   "toc_position": {
    "height": "calc(100% - 180px)",
    "left": "10px",
    "top": "150px",
    "width": "165px"
   },
   "toc_section_display": true,
   "toc_window_display": true
  }
 },
 "nbformat": 4,
 "nbformat_minor": 2
}
